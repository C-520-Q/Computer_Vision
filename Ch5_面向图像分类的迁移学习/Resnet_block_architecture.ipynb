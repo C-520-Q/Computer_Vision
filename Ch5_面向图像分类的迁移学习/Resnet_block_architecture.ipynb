{
 "cells": [
  {
   "cell_type": "markdown",
   "source": [
    "## Resnet Block Architecture"
   ],
   "metadata": {
    "collapsed": false
   },
   "id": "b50fe89cc7640ab5"
  },
  {
   "cell_type": "code",
   "outputs": [],
   "source": [
    "import torch\n",
    "from torch import nn\n",
    "class ResLayer(nn.Module):\n",
    "    def __init__(self,ni,no,kernel_size,stride=1):\n",
    "        super(ResLayer,self).__init__()\n",
    "        padding=kernel_size-2\n",
    "        self.conv=nn.Sequential(\n",
    "            nn.Conv2d(ni,no,kernel_size,stride,padding=padding),\n",
    "            nn.ReLU()\n",
    "        )\n",
    "    def forward(self,x):\n",
    "        return self.conv(x)+x"
   ],
   "metadata": {
    "collapsed": false,
    "ExecuteTime": {
     "end_time": "2024-11-04T15:29:58.829021400Z",
     "start_time": "2024-11-04T15:29:55.763480700Z"
    }
   },
   "id": "10983712395ba1b",
   "execution_count": 1
  }
 ],
 "metadata": {
  "kernelspec": {
   "display_name": "Python 3",
   "language": "python",
   "name": "python3"
  },
  "language_info": {
   "codemirror_mode": {
    "name": "ipython",
    "version": 2
   },
   "file_extension": ".py",
   "mimetype": "text/x-python",
   "name": "python",
   "nbconvert_exporter": "python",
   "pygments_lexer": "ipython2",
   "version": "2.7.6"
  }
 },
 "nbformat": 4,
 "nbformat_minor": 5
}
