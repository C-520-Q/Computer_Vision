{
 "cells": [
  {
   "cell_type": "markdown",
   "source": [
    "## Initializing A Tensor"
   ],
   "metadata": {
    "collapsed": false
   },
   "id": "f909c039b8c7b927"
  },
  {
   "cell_type": "code",
   "outputs": [],
   "source": [
    "import torch\n",
    "x=torch.tensor([[1,2]])\n",
    "y=torch.tensor([[1],[2]])"
   ],
   "metadata": {
    "collapsed": false,
    "ExecuteTime": {
     "end_time": "2024-10-29T14:52:48.125963100Z",
     "start_time": "2024-10-29T14:52:45.978086900Z"
    }
   },
   "id": "319305b7d9a96061",
   "execution_count": 1
  },
  {
   "cell_type": "code",
   "outputs": [
    {
     "name": "stdout",
     "output_type": "stream",
     "text": [
      "torch.Size([1, 2])\n",
      "torch.Size([2, 1])\n",
      "torch.int64\n"
     ]
    }
   ],
   "source": [
    "print(x.shape)\n",
    "# torch.Size([1,2])  # one entity of two items\n",
    "print(y.shape)\n",
    "# torch.Size([2,1])  # two entity of one items\n",
    "print(x.dtype)\n",
    "# torch.int64"
   ],
   "metadata": {
    "collapsed": false,
    "ExecuteTime": {
     "end_time": "2024-10-29T14:52:48.141316600Z",
     "start_time": "2024-10-29T14:52:48.128099600Z"
    }
   },
   "id": "c4329b28650607fa",
   "execution_count": 2
  },
  {
   "cell_type": "code",
   "outputs": [
    {
     "name": "stdout",
     "output_type": "stream",
     "text": [
      "tensor([0., 1., 2.])\n"
     ]
    }
   ],
   "source": [
    "x=torch.tensor([False,1,2.0])\n",
    "print(x)\n",
    "# tensor([0.,1.,2.])"
   ],
   "metadata": {
    "collapsed": false,
    "ExecuteTime": {
     "end_time": "2024-10-29T14:52:48.159119600Z",
     "start_time": "2024-10-29T14:52:48.142313600Z"
    }
   },
   "id": "b0b978f59140f746",
   "execution_count": 3
  },
  {
   "cell_type": "code",
   "outputs": [
    {
     "data": {
      "text/plain": "tensor([[0., 0., 0., 0.],\n        [0., 0., 0., 0.],\n        [0., 0., 0., 0.]])"
     },
     "execution_count": 4,
     "metadata": {},
     "output_type": "execute_result"
    }
   ],
   "source": [
    "torch.zeros((3,4))"
   ],
   "metadata": {
    "collapsed": false,
    "ExecuteTime": {
     "end_time": "2024-10-29T14:52:48.172457400Z",
     "start_time": "2024-10-29T14:52:48.157899900Z"
    }
   },
   "id": "52288c0aa13936d7",
   "execution_count": 4
  },
  {
   "cell_type": "code",
   "outputs": [
    {
     "data": {
      "text/plain": "tensor([[1., 1., 1., 1.],\n        [1., 1., 1., 1.],\n        [1., 1., 1., 1.]])"
     },
     "execution_count": 5,
     "metadata": {},
     "output_type": "execute_result"
    }
   ],
   "source": [
    "torch.ones((3,4))"
   ],
   "metadata": {
    "collapsed": false,
    "ExecuteTime": {
     "end_time": "2024-10-29T14:52:48.198605100Z",
     "start_time": "2024-10-29T14:52:48.174450600Z"
    }
   },
   "id": "3f63c89871fd0410",
   "execution_count": 5
  },
  {
   "cell_type": "code",
   "outputs": [
    {
     "data": {
      "text/plain": "tensor([[2, 3, 3, 6],\n        [2, 1, 1, 1],\n        [4, 7, 9, 5]])"
     },
     "execution_count": 6,
     "metadata": {},
     "output_type": "execute_result"
    }
   ],
   "source": [
    "torch.randint(low=0,high=10,size=(3,4))"
   ],
   "metadata": {
    "collapsed": false,
    "ExecuteTime": {
     "end_time": "2024-10-29T14:52:48.207962900Z",
     "start_time": "2024-10-29T14:52:48.189131200Z"
    }
   },
   "id": "c15a5ccf731f31a0",
   "execution_count": 6
  },
  {
   "cell_type": "code",
   "outputs": [
    {
     "data": {
      "text/plain": "tensor([[0.6028, 0.6579, 0.2024, 0.7726],\n        [0.9989, 0.9883, 0.2164, 0.7639],\n        [0.0999, 0.7048, 0.3901, 0.6899]])"
     },
     "execution_count": 7,
     "metadata": {},
     "output_type": "execute_result"
    }
   ],
   "source": [
    "torch.rand(3,4)"
   ],
   "metadata": {
    "collapsed": false,
    "ExecuteTime": {
     "end_time": "2024-10-29T14:52:48.231499900Z",
     "start_time": "2024-10-29T14:52:48.205437600Z"
    }
   },
   "id": "6e7f1f54c1eab5fa",
   "execution_count": 7
  },
  {
   "cell_type": "code",
   "outputs": [
    {
     "data": {
      "text/plain": "tensor([[-0.1765, -0.7011,  0.0767, -1.0763],\n        [-0.8187, -0.2086, -0.4634,  1.6801],\n        [ 1.0824, -0.0577,  0.3495, -0.3925]])"
     },
     "execution_count": 8,
     "metadata": {},
     "output_type": "execute_result"
    }
   ],
   "source": [
    "torch.randn((3,4))"
   ],
   "metadata": {
    "collapsed": false,
    "ExecuteTime": {
     "end_time": "2024-10-29T14:52:48.236485900Z",
     "start_time": "2024-10-29T14:52:48.221222300Z"
    }
   },
   "id": "b918d1523e557055",
   "execution_count": 8
  },
  {
   "cell_type": "code",
   "outputs": [
    {
     "name": "stdout",
     "output_type": "stream",
     "text": [
      "<class 'numpy.ndarray'> <class 'torch.Tensor'>\n"
     ]
    }
   ],
   "source": [
    "import numpy as np\n",
    "x=np.array([[10,20,30],[2,3,4]])\n",
    "y=torch.tensor(x)\n",
    "print(type(x),type(y))"
   ],
   "metadata": {
    "collapsed": false,
    "ExecuteTime": {
     "end_time": "2024-10-29T14:52:48.265025Z",
     "start_time": "2024-10-29T14:52:48.236987400Z"
    }
   },
   "id": "3e83caccc76daa2d",
   "execution_count": 9
  }
 ],
 "metadata": {
  "kernelspec": {
   "display_name": "Python 3",
   "language": "python",
   "name": "python3"
  },
  "language_info": {
   "codemirror_mode": {
    "name": "ipython",
    "version": 2
   },
   "file_extension": ".py",
   "mimetype": "text/x-python",
   "name": "python",
   "nbconvert_exporter": "python",
   "pygments_lexer": "ipython2",
   "version": "2.7.6"
  }
 },
 "nbformat": 4,
 "nbformat_minor": 5
}
