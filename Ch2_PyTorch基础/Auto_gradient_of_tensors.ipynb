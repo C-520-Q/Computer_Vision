{
 "cells": [
  {
   "cell_type": "markdown",
   "source": [
    "## Auto Gradient Of Tensors"
   ],
   "metadata": {
    "collapsed": false
   },
   "id": "a3708d84121df212"
  },
  {
   "cell_type": "code",
   "outputs": [
    {
     "name": "stdout",
     "output_type": "stream",
     "text": [
      "tensor([[ 2., -1.],\n",
      "        [ 1.,  1.]], requires_grad=True)\n"
     ]
    }
   ],
   "source": [
    "import numpy as np\n",
    "import torch\n",
    "x=torch.tensor([[2.,-1.],[1.,1.]],requires_grad=True)\n",
    "print(x)"
   ],
   "metadata": {
    "collapsed": false,
    "ExecuteTime": {
     "end_time": "2024-10-30T11:52:02.739058400Z",
     "start_time": "2024-10-30T11:52:00.458541Z"
    }
   },
   "id": "7275c7e96604ab51",
   "execution_count": 1
  },
  {
   "cell_type": "code",
   "outputs": [],
   "source": [
    "out=x.pow(2).sum()"
   ],
   "metadata": {
    "collapsed": false,
    "ExecuteTime": {
     "end_time": "2024-10-30T11:52:02.756902300Z",
     "start_time": "2024-10-30T11:52:02.739058400Z"
    }
   },
   "id": "e3b6468a15f7b618",
   "execution_count": 2
  },
  {
   "cell_type": "code",
   "outputs": [],
   "source": [
    "out.backward()"
   ],
   "metadata": {
    "collapsed": false,
    "ExecuteTime": {
     "end_time": "2024-10-30T11:52:03.252269Z",
     "start_time": "2024-10-30T11:52:02.757900700Z"
    }
   },
   "id": "b26e0e93b22a6393",
   "execution_count": 3
  },
  {
   "cell_type": "code",
   "outputs": [
    {
     "data": {
      "text/plain": "tensor([[ 4., -2.],\n        [ 2.,  2.]])"
     },
     "execution_count": 4,
     "metadata": {},
     "output_type": "execute_result"
    }
   ],
   "source": [
    "x.grad"
   ],
   "metadata": {
    "collapsed": false,
    "ExecuteTime": {
     "end_time": "2024-10-30T11:52:03.267177300Z",
     "start_time": "2024-10-30T11:52:03.255784400Z"
    }
   },
   "id": "5cb4b3589aeed73c",
   "execution_count": 4
  },
  {
   "cell_type": "code",
   "outputs": [],
   "source": [
    "x=np.array([[1,1]])\n",
    "y=np.array([[0]])\n",
    "x,y=[torch.tensor(i).float() for i in [x,y]]"
   ],
   "metadata": {
    "collapsed": false,
    "ExecuteTime": {
     "end_time": "2024-10-30T11:52:03.288658100Z",
     "start_time": "2024-10-30T11:52:03.269173800Z"
    }
   },
   "id": "b24ff419d008bcb6",
   "execution_count": 5
  },
  {
   "cell_type": "code",
   "outputs": [],
   "source": [
    "W = [\n",
    "    np.array([[-0.0053, 0.3793],\n",
    "              [-0.5820, -0.5204],\n",
    "              [-0.2723, 0.1896]], dtype=np.float32).T, \n",
    "    np.array([-0.0140, 0.5607, -0.0628], dtype=np.float32), \n",
    "    np.array([[ 0.1528, -0.1745, -0.1135]], dtype=np.float32).T, \n",
    "    np.array([-0.5516], dtype=np.float32)\n",
    "]\n",
    "\n",
    "W=[torch.tensor(i,requires_grad=True) for i in W]"
   ],
   "metadata": {
    "collapsed": false,
    "ExecuteTime": {
     "end_time": "2024-10-30T11:52:03.298776600Z",
     "start_time": "2024-10-30T11:52:03.287149600Z"
    }
   },
   "id": "308550b87c3faddb",
   "execution_count": 6
  },
  {
   "cell_type": "code",
   "outputs": [],
   "source": [
    "def feed_forward(inputs,outputs,weights):\n",
    "    pre_hidden=torch.matmul(inputs,weights[0])+weights[1]\n",
    "    hidden=1/(1+torch.exp(-pre_hidden))\n",
    "    out=torch.matmul(hidden,weights[2])+weights[3]\n",
    "    mean_squared_error=torch.mean(torch.square(out-outputs))\n",
    "    return mean_squared_error"
   ],
   "metadata": {
    "collapsed": false,
    "ExecuteTime": {
     "end_time": "2024-10-30T11:52:03.314278400Z",
     "start_time": "2024-10-30T11:52:03.300770300Z"
    }
   },
   "id": "64c241b8bd5edb76",
   "execution_count": 7
  },
  {
   "cell_type": "code",
   "outputs": [
    {
     "data": {
      "text/plain": "tensor(0.3346, grad_fn=<MeanBackward0>)"
     },
     "execution_count": 8,
     "metadata": {},
     "output_type": "execute_result"
    }
   ],
   "source": [
    "loss=feed_forward(x,y,W)\n",
    "loss"
   ],
   "metadata": {
    "collapsed": false,
    "ExecuteTime": {
     "end_time": "2024-10-30T11:52:03.328923400Z",
     "start_time": "2024-10-30T11:52:03.315780600Z"
    }
   },
   "id": "a699d81363f5c99d",
   "execution_count": 8
  },
  {
   "cell_type": "code",
   "outputs": [],
   "source": [
    "loss.backward()"
   ],
   "metadata": {
    "collapsed": false,
    "ExecuteTime": {
     "end_time": "2024-10-30T11:52:03.349554700Z",
     "start_time": "2024-10-30T11:52:03.329920600Z"
    }
   },
   "id": "50cc283754c77977",
   "execution_count": 9
  },
  {
   "cell_type": "code",
   "outputs": [
    {
     "name": "stdout",
     "output_type": "stream",
     "text": [
      "[tensor([[-0.0428,  0.0469,  0.0327],\n",
      "        [-0.0428,  0.0469,  0.0327]]), tensor([-0.0428,  0.0469,  0.0327]), tensor([[-0.6814],\n",
      "        [-0.4255],\n",
      "        [-0.5364]]), tensor([-1.1568])]\n"
     ]
    }
   ],
   "source": [
    "print([w.grad for w in W])"
   ],
   "metadata": {
    "collapsed": false,
    "ExecuteTime": {
     "end_time": "2024-10-30T11:52:03.359376300Z",
     "start_time": "2024-10-30T11:52:03.345564600Z"
    }
   },
   "id": "3e6e28e478c89a1e",
   "execution_count": 10
  },
  {
   "cell_type": "code",
   "outputs": [
    {
     "data": {
      "text/plain": "[tensor([[ 0.0375, -0.6289, -0.3050],\n         [ 0.4221, -0.5673,  0.1569]], grad_fn=<SubBackward0>),\n tensor([ 0.0288,  0.5138, -0.0955], grad_fn=<SubBackward0>),\n tensor([[0.8342],\n         [0.2510],\n         [0.4229]], grad_fn=<SubBackward0>),\n tensor([0.6052], grad_fn=<SubBackward0>)]"
     },
     "execution_count": 11,
     "metadata": {},
     "output_type": "execute_result"
    }
   ],
   "source": [
    "updated_W=[w-w.grad for w in W]\n",
    "updated_W"
   ],
   "metadata": {
    "collapsed": false,
    "ExecuteTime": {
     "end_time": "2024-10-30T11:52:03.385839400Z",
     "start_time": "2024-10-30T11:52:03.360382Z"
    }
   },
   "id": "1e8a634bcea7a459",
   "execution_count": 11
  }
 ],
 "metadata": {
  "kernelspec": {
   "display_name": "Python 3",
   "language": "python",
   "name": "python3"
  },
  "language_info": {
   "codemirror_mode": {
    "name": "ipython",
    "version": 2
   },
   "file_extension": ".py",
   "mimetype": "text/x-python",
   "name": "python",
   "nbconvert_exporter": "python",
   "pygments_lexer": "ipython2",
   "version": "2.7.6"
  }
 },
 "nbformat": 4,
 "nbformat_minor": 5
}
