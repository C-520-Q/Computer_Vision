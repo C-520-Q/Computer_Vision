{
 "cells": [
  {
   "cell_type": "markdown",
   "source": [
    "## Building A Neural Network Using PyTorch On A Toy Dataset"
   ],
   "metadata": {
    "collapsed": false
   },
   "id": "499dcf6847f50e4"
  },
  {
   "cell_type": "code",
   "outputs": [],
   "source": [
    "import torch\n",
    "x=[[1,2],[3,4],[5,6],[7,8]]\n",
    "y=[[3],[7],[11],[15]]"
   ],
   "metadata": {
    "collapsed": true,
    "ExecuteTime": {
     "end_time": "2024-10-30T12:47:26.972114600Z",
     "start_time": "2024-10-30T12:47:24.676190300Z"
    }
   },
   "id": "initial_id",
   "execution_count": 1
  },
  {
   "cell_type": "code",
   "outputs": [],
   "source": [
    "X=torch.tensor(x).float()\n",
    "Y=torch.tensor(y).float()"
   ],
   "metadata": {
    "collapsed": false,
    "ExecuteTime": {
     "end_time": "2024-10-30T12:47:26.987185800Z",
     "start_time": "2024-10-30T12:47:26.969578100Z"
    }
   },
   "id": "df8ee0dc7f448729",
   "execution_count": 2
  },
  {
   "cell_type": "code",
   "outputs": [],
   "source": [
    "device='cuda' if torch.cuda.is_available() else 'cpu'\n",
    "X=X.to(device)\n",
    "Y=Y.to(device)"
   ],
   "metadata": {
    "collapsed": false,
    "ExecuteTime": {
     "end_time": "2024-10-30T12:47:27.109489700Z",
     "start_time": "2024-10-30T12:47:26.984182400Z"
    }
   },
   "id": "d537c3cfdd5d1e20",
   "execution_count": 3
  },
  {
   "cell_type": "code",
   "outputs": [],
   "source": [
    "import torch.nn as nn"
   ],
   "metadata": {
    "collapsed": false,
    "ExecuteTime": {
     "end_time": "2024-10-30T12:47:27.124088600Z",
     "start_time": "2024-10-30T12:47:27.110489800Z"
    }
   },
   "id": "9fba126e97310cb3",
   "execution_count": 4
  },
  {
   "cell_type": "code",
   "outputs": [],
   "source": [
    "class MyNeuralNet(nn.Module):\n",
    "    def __init__(self):\n",
    "        super().__init__()\n",
    "        self.input_to_hidden_layer=nn.Linear(2,8)\n",
    "        self.hidden_layer_activation=nn.ReLU()\n",
    "        self.hidden_to_output_layer=nn.Linear(8,1)\n",
    "    def forward(self,x):\n",
    "        x=self.input_to_hidden_layer(x)\n",
    "        x=self.hidden_layer_activation(x)\n",
    "        x=self.hidden_to_output_layer(x)\n",
    "        return x"
   ],
   "metadata": {
    "collapsed": false,
    "ExecuteTime": {
     "end_time": "2024-10-30T12:47:27.141480400Z",
     "start_time": "2024-10-30T12:47:27.126637600Z"
    }
   },
   "id": "654ad382951f2106",
   "execution_count": 5
  },
  {
   "cell_type": "code",
   "outputs": [
    {
     "name": "stdout",
     "output_type": "stream",
     "text": [
      "Linear(in_features=2, out_features=7, bias=True)\n"
     ]
    }
   ],
   "source": [
    "# NOTE - This line of code is not part of model building\n",
    "# this is used only for illustration of Linear method\n",
    "print(nn.Linear(2,7))"
   ],
   "metadata": {
    "collapsed": false,
    "ExecuteTime": {
     "end_time": "2024-10-30T12:47:27.154962800Z",
     "start_time": "2024-10-30T12:47:27.141480400Z"
    }
   },
   "id": "d092836c09b0c562",
   "execution_count": 6
  },
  {
   "cell_type": "code",
   "outputs": [],
   "source": [
    "mynet=MyNeuralNet().to(device)"
   ],
   "metadata": {
    "collapsed": false,
    "ExecuteTime": {
     "end_time": "2024-10-30T12:47:27.189240Z",
     "start_time": "2024-10-30T12:47:27.158043800Z"
    }
   },
   "id": "98b9cf0fba26c902",
   "execution_count": 7
  },
  {
   "cell_type": "code",
   "outputs": [
    {
     "data": {
      "text/plain": "Parameter containing:\ntensor([[-0.2736,  0.0025],\n        [ 0.3942, -0.0099],\n        [ 0.4391, -0.2377],\n        [-0.0700,  0.4219],\n        [ 0.1923, -0.1851],\n        [-0.5754, -0.2932],\n        [ 0.0049,  0.5871],\n        [-0.2904, -0.6435]], device='cuda:0', requires_grad=True)"
     },
     "execution_count": 8,
     "metadata": {},
     "output_type": "execute_result"
    }
   ],
   "source": [
    "# NOTE - This line of code is not a part of model building\n",
    "# this is used only for illustration of\n",
    "# how to obtain parameters of a given layer\n",
    "mynet.input_to_hidden_layer.weight"
   ],
   "metadata": {
    "collapsed": false,
    "ExecuteTime": {
     "end_time": "2024-10-30T12:47:27.246388400Z",
     "start_time": "2024-10-30T12:47:27.170867700Z"
    }
   },
   "id": "69405f782faaa1d1",
   "execution_count": 8
  },
  {
   "cell_type": "code",
   "outputs": [
    {
     "data": {
      "text/plain": "<generator object Module.parameters at 0x0000013CE0295660>"
     },
     "execution_count": 9,
     "metadata": {},
     "output_type": "execute_result"
    }
   ],
   "source": [
    "# NOTE - This line of code is not a part of  model building,\n",
    "# this is used only for illustration of\n",
    "# how to obtain parameters of all layers in a model\n",
    "mynet.parameters()"
   ],
   "metadata": {
    "collapsed": false,
    "ExecuteTime": {
     "end_time": "2024-10-30T12:47:27.272718Z",
     "start_time": "2024-10-30T12:47:27.249083400Z"
    }
   },
   "id": "23ce21346511a490",
   "execution_count": 9
  },
  {
   "cell_type": "code",
   "outputs": [
    {
     "name": "stdout",
     "output_type": "stream",
     "text": [
      "Parameter containing:\n",
      "tensor([[-0.2736,  0.0025],\n",
      "        [ 0.3942, -0.0099],\n",
      "        [ 0.4391, -0.2377],\n",
      "        [-0.0700,  0.4219],\n",
      "        [ 0.1923, -0.1851],\n",
      "        [-0.5754, -0.2932],\n",
      "        [ 0.0049,  0.5871],\n",
      "        [-0.2904, -0.6435]], device='cuda:0', requires_grad=True)\n",
      "Parameter containing:\n",
      "tensor([-0.2396, -0.4252,  0.2028, -0.2343, -0.6026, -0.0748,  0.2241,  0.3897],\n",
      "       device='cuda:0', requires_grad=True)\n",
      "Parameter containing:\n",
      "tensor([[ 0.3353, -0.1080,  0.1286,  0.0132, -0.0629,  0.3372,  0.2478, -0.1275]],\n",
      "       device='cuda:0', requires_grad=True)\n",
      "Parameter containing:\n",
      "tensor([-0.3074], device='cuda:0', requires_grad=True)\n"
     ]
    }
   ],
   "source": [
    "# NOTE - This line of code is not a part of model building,\n",
    "# this is used only for illustration of how to\n",
    "# obtain parameters of all layers in a model\n",
    "# by looping through the generator object\n",
    "for par in mynet.parameters():\n",
    "    print(par)"
   ],
   "metadata": {
    "collapsed": false,
    "ExecuteTime": {
     "end_time": "2024-10-30T12:47:27.279124200Z",
     "start_time": "2024-10-30T12:47:27.263014200Z"
    }
   },
   "id": "5f5d01571aec371a",
   "execution_count": 10
  },
  {
   "cell_type": "code",
   "outputs": [],
   "source": [
    "# for illustration only\n",
    "class MyNeuralNet(nn.Module):\n",
    "    def __init__(self):\n",
    "        super().__init__()\n",
    "        self.input_to_hidden_layer=nn.Parameter(torch.rand(2,8))\n",
    "        self.hidden_layer_activation=nn.ReLU()\n",
    "        self.hidden_to_output_layer=nn.Parameter(torch.rand(8,1))\n",
    "    def forward(self,x):\n",
    "        x=x@self.input_to_hidden_layer\n",
    "        x=self.hidden_layer_activation(x)\n",
    "        x=x@self.hidden_to_output_layer\n",
    "        return x"
   ],
   "metadata": {
    "collapsed": false,
    "ExecuteTime": {
     "end_time": "2024-10-30T12:47:27.301162100Z",
     "start_time": "2024-10-30T12:47:27.280121600Z"
    }
   },
   "id": "96dc044ecfd2f9d",
   "execution_count": 11
  },
  {
   "cell_type": "code",
   "outputs": [],
   "source": [
    "loss_func=nn.MSELoss()"
   ],
   "metadata": {
    "collapsed": false,
    "ExecuteTime": {
     "end_time": "2024-10-30T12:47:27.308644200Z",
     "start_time": "2024-10-30T12:47:27.295174900Z"
    }
   },
   "id": "46b80a9772691328",
   "execution_count": 12
  },
  {
   "cell_type": "code",
   "outputs": [
    {
     "name": "stdout",
     "output_type": "stream",
     "text": [
      "tensor(89.9530, device='cuda:0', grad_fn=<MseLossBackward0>)\n"
     ]
    }
   ],
   "source": [
    "_Y=mynet(X)\n",
    "loss_value=loss_func(_Y,Y)\n",
    "print(loss_value)\n",
    "#\n",
    "# Note that loss value can differ in your instance\n",
    "# due to a different random weight initialization"
   ],
   "metadata": {
    "collapsed": false,
    "ExecuteTime": {
     "end_time": "2024-10-30T12:47:27.356406100Z",
     "start_time": "2024-10-30T12:47:27.309640800Z"
    }
   },
   "id": "533e93450e6e0aec",
   "execution_count": 13
  },
  {
   "cell_type": "code",
   "outputs": [],
   "source": [
    "from torch.optim import SGD\n",
    "opt=SGD(mynet.parameters(),lr=0.001)"
   ],
   "metadata": {
    "collapsed": false,
    "ExecuteTime": {
     "end_time": "2024-10-30T12:47:28.662582600Z",
     "start_time": "2024-10-30T12:47:27.357444900Z"
    }
   },
   "id": "62a79600cbc00643",
   "execution_count": 14
  },
  {
   "cell_type": "code",
   "outputs": [],
   "source": [
    "# NOTE - This line of code is not a part of model building,\n",
    "# this is used only for illustration of how we perform\n",
    "opt.zero_grad()  # flush the previous epoch's gradients\n",
    "loss_value=loss_func(mynet(X),Y)   # compute loss\n",
    "loss_value.backward()  # perform back-propagation\n",
    "opt.step()  # update the weights according to the gradients computed"
   ],
   "metadata": {
    "collapsed": false,
    "ExecuteTime": {
     "end_time": "2024-10-30T12:47:28.722742400Z",
     "start_time": "2024-10-30T12:47:28.661033300Z"
    }
   },
   "id": "aa2ef974fcac9b19",
   "execution_count": 15
  },
  {
   "cell_type": "code",
   "outputs": [],
   "source": [
    "loss_history=[]\n",
    "for _ in range(50):\n",
    "    opt.zero_grad()\n",
    "    loss_value=loss_func(mynet(X),Y)\n",
    "    loss_value.backward()\n",
    "    opt.step()\n",
    "    loss_history.append(loss_value.item())"
   ],
   "metadata": {
    "collapsed": false,
    "ExecuteTime": {
     "end_time": "2024-10-30T12:47:28.768705700Z",
     "start_time": "2024-10-30T12:47:28.724327200Z"
    }
   },
   "id": "81710a5dcbf47939",
   "execution_count": 16
  },
  {
   "cell_type": "code",
   "outputs": [
    {
     "data": {
      "text/plain": "Text(0, 0.5, 'loss value')"
     },
     "execution_count": 17,
     "metadata": {},
     "output_type": "execute_result"
    },
    {
     "data": {
      "text/plain": "<Figure size 640x480 with 1 Axes>",
      "image/png": "[encoded data removed]"
     },
     "metadata": {},
     "output_type": "display_data"
    }
   ],
   "source": [
    "import matplotlib.pyplot as plt\n",
    "%matplotlib inline\n",
    "plt.plot(loss_history)\n",
    "plt.title('Loss variation over increasing epochs')\n",
    "plt.xlabel('epochs')\n",
    "plt.ylabel('loss value')"
   ],
   "metadata": {
    "collapsed": false,
    "ExecuteTime": {
     "end_time": "2024-10-30T12:47:29.203973900Z",
     "start_time": "2024-10-30T12:47:28.769702Z"
    }
   },
   "id": "a3ff8562c00eb0ce",
   "execution_count": 17
  }
 ],
 "metadata": {
  "kernelspec": {
   "display_name": "Python 3",
   "language": "python",
   "name": "python3"
  },
  "language_info": {
   "codemirror_mode": {
    "name": "ipython",
    "version": 2
   },
   "file_extension": ".py",
   "mimetype": "text/x-python",
   "name": "python",
   "nbconvert_exporter": "python",
   "pygments_lexer": "ipython2",
   "version": "2.7.6"
  }
 },
 "nbformat": 4,
 "nbformat_minor": 5
}
