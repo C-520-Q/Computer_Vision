{
 "cells": [
  {
   "cell_type": "markdown",
   "source": [
    "## Numpy Vs Torch Object Computation Speed Comparison"
   ],
   "metadata": {
    "collapsed": false
   },
   "id": "f8e85d1daf99db95"
  },
  {
   "cell_type": "code",
   "outputs": [],
   "source": [
    "import torch\n",
    "x=torch.rand(1,6400)\n",
    "y=torch.rand(6400,5000)"
   ],
   "metadata": {
    "collapsed": false,
    "ExecuteTime": {
     "end_time": "2024-10-30T12:06:39.582729500Z",
     "start_time": "2024-10-30T12:06:37.318117900Z"
    }
   },
   "id": "12cab5d0657bbbb4",
   "execution_count": 1
  },
  {
   "cell_type": "code",
   "outputs": [],
   "source": [
    "device='cuda' if torch.cuda.is_available() else 'cpu'\n",
    "assert device=='cuda','This exercise assumes the notebook is on a GPU machine'"
   ],
   "metadata": {
    "collapsed": false,
    "ExecuteTime": {
     "end_time": "2024-10-30T12:06:41.232861200Z",
     "start_time": "2024-10-30T12:06:39.584723300Z"
    }
   },
   "id": "9de41ae608b080f8",
   "execution_count": 2
  },
  {
   "cell_type": "code",
   "outputs": [],
   "source": [
    "x,y=x.to(device),y.to(device)"
   ],
   "metadata": {
    "collapsed": false,
    "ExecuteTime": {
     "end_time": "2024-10-30T12:06:41.341483200Z",
     "start_time": "2024-10-30T12:06:41.232861200Z"
    }
   },
   "id": "414b5c10a3057f83",
   "execution_count": 3
  },
  {
   "cell_type": "code",
   "outputs": [
    {
     "name": "stdout",
     "output_type": "stream",
     "text": [
      "529 µs ± 1.16 µs per loop (mean ± std. dev. of 7 runs, 1,000 loops each)\n"
     ]
    }
   ],
   "source": [
    "%timeit z=(x@y)"
   ],
   "metadata": {
    "collapsed": false,
    "ExecuteTime": {
     "end_time": "2024-10-30T12:06:45.417461500Z",
     "start_time": "2024-10-30T12:06:41.342480500Z"
    }
   },
   "id": "eed78381d4bbdf80",
   "execution_count": 4
  },
  {
   "cell_type": "code",
   "outputs": [
    {
     "name": "stdout",
     "output_type": "stream",
     "text": [
      "3.72 ms ± 135 µs per loop (mean ± std. dev. of 7 runs, 100 loops each)\n"
     ]
    }
   ],
   "source": [
    "x,y=x.cpu(),y.cpu()\n",
    "%timeit z=(x@y)"
   ],
   "metadata": {
    "collapsed": false,
    "ExecuteTime": {
     "end_time": "2024-10-30T12:06:48.712963200Z",
     "start_time": "2024-10-30T12:06:45.419956200Z"
    }
   },
   "id": "9b6af7f762b9e46",
   "execution_count": 5
  },
  {
   "cell_type": "code",
   "outputs": [
    {
     "name": "stdout",
     "output_type": "stream",
     "text": [
      "7.31 ms ± 111 µs per loop (mean ± std. dev. of 7 runs, 100 loops each)\n"
     ]
    }
   ],
   "source": [
    "import numpy as np\n",
    "x=np.random.random((1,6400))\n",
    "y=np.random.random((6400,5000))\n",
    "%timeit z=np.matmul(x,y)"
   ],
   "metadata": {
    "collapsed": false,
    "ExecuteTime": {
     "end_time": "2024-10-30T12:06:54.933652100Z",
     "start_time": "2024-10-30T12:06:48.714983600Z"
    }
   },
   "id": "93439beedd78cf82",
   "execution_count": 6
  }
 ],
 "metadata": {
  "kernelspec": {
   "display_name": "Python 3",
   "language": "python",
   "name": "python3"
  },
  "language_info": {
   "codemirror_mode": {
    "name": "ipython",
    "version": 2
   },
   "file_extension": ".py",
   "mimetype": "text/x-python",
   "name": "python",
   "nbconvert_exporter": "python",
   "pygments_lexer": "ipython2",
   "version": "2.7.6"
  }
 },
 "nbformat": 4,
 "nbformat_minor": 5
}
