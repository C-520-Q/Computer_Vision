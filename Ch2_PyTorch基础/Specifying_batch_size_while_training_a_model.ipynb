{
 "cells": [
  {
   "cell_type": "markdown",
   "source": [
    "## Specifying Batch Size While Training A Model"
   ],
   "metadata": {
    "collapsed": false
   },
   "id": "e72f5563367d4ee9"
  },
  {
   "cell_type": "code",
   "outputs": [],
   "source": [
    "from torch.utils.data import Dataset,DataLoader\n",
    "import torch\n",
    "import torch.nn as nn"
   ],
   "metadata": {
    "collapsed": false,
    "ExecuteTime": {
     "end_time": "2024-10-30T13:08:14.985916100Z",
     "start_time": "2024-10-30T13:08:12.867076Z"
    }
   },
   "id": "7bcc8194fec02fc2",
   "execution_count": 1
  },
  {
   "cell_type": "code",
   "outputs": [],
   "source": [
    "x=[[1,2],[3,4],[5,6],[7,8]]\n",
    "y=[[3],[7],[11],[15]]"
   ],
   "metadata": {
    "collapsed": false,
    "ExecuteTime": {
     "end_time": "2024-10-30T13:08:15.002967400Z",
     "start_time": "2024-10-30T13:08:14.987910700Z"
    }
   },
   "id": "5370d0767b509363",
   "execution_count": 2
  },
  {
   "cell_type": "code",
   "outputs": [],
   "source": [
    "X=torch.tensor(x).float()\n",
    "Y=torch.tensor(y).float()"
   ],
   "metadata": {
    "collapsed": false,
    "ExecuteTime": {
     "end_time": "2024-10-30T13:08:15.018599200Z",
     "start_time": "2024-10-30T13:08:15.004471300Z"
    }
   },
   "id": "d749ac7bafc18396",
   "execution_count": 3
  },
  {
   "cell_type": "code",
   "outputs": [],
   "source": [
    "device='cuda' if torch.cuda.is_available() else 'cpu'\n",
    "X=X.to(device)\n",
    "Y=Y.to(device)"
   ],
   "metadata": {
    "collapsed": false,
    "ExecuteTime": {
     "end_time": "2024-10-30T13:08:15.140111300Z",
     "start_time": "2024-10-30T13:08:15.018599200Z"
    }
   },
   "id": "d14eb2ac1acd7210",
   "execution_count": 4
  },
  {
   "cell_type": "code",
   "outputs": [],
   "source": [
    "class MyDataset(Dataset):\n",
    "    def __init__(self,x,y):\n",
    "        self.x=torch.tensor(x).float()\n",
    "        self.y=torch.tensor(y).float()\n",
    "    def __len__(self):\n",
    "        return len(self.x)\n",
    "    def __getitem__(self, ix):\n",
    "        return self.x[ix],self.y[ix]"
   ],
   "metadata": {
    "collapsed": false,
    "ExecuteTime": {
     "end_time": "2024-10-30T13:08:15.155835Z",
     "start_time": "2024-10-30T13:08:15.142503200Z"
    }
   },
   "id": "4001d44dff1ba6c",
   "execution_count": 5
  },
  {
   "cell_type": "code",
   "outputs": [
    {
     "name": "stderr",
     "output_type": "stream",
     "text": [
      "C:\\Users\\Lenovo\\AppData\\Local\\Temp\\ipykernel_16104\\856202636.py:3: UserWarning: To copy construct from a tensor, it is recommended to use sourceTensor.clone().detach() or sourceTensor.clone().detach().requires_grad_(True), rather than torch.tensor(sourceTensor).\n",
      "  self.x=torch.tensor(x).float()\n",
      "C:\\Users\\Lenovo\\AppData\\Local\\Temp\\ipykernel_16104\\856202636.py:4: UserWarning: To copy construct from a tensor, it is recommended to use sourceTensor.clone().detach() or sourceTensor.clone().detach().requires_grad_(True), rather than torch.tensor(sourceTensor).\n",
      "  self.y=torch.tensor(y).float()\n"
     ]
    }
   ],
   "source": [
    "ds=MyDataset(X,Y)"
   ],
   "metadata": {
    "collapsed": false,
    "ExecuteTime": {
     "end_time": "2024-10-30T13:08:15.178488500Z",
     "start_time": "2024-10-30T13:08:15.156832800Z"
    }
   },
   "id": "cd415f2b0765a832",
   "execution_count": 6
  },
  {
   "cell_type": "code",
   "outputs": [],
   "source": [
    "dl=DataLoader(ds,batch_size=2,shuffle=True)"
   ],
   "metadata": {
    "collapsed": false,
    "ExecuteTime": {
     "end_time": "2024-10-30T13:08:15.195872100Z",
     "start_time": "2024-10-30T13:08:15.172732Z"
    }
   },
   "id": "ab67a97c3903167d",
   "execution_count": 7
  },
  {
   "cell_type": "code",
   "outputs": [
    {
     "name": "stdout",
     "output_type": "stream",
     "text": [
      "tensor([[1., 2.],\n",
      "        [7., 8.]], device='cuda:0') tensor([[ 3.],\n",
      "        [15.]], device='cuda:0')\n",
      "tensor([[3., 4.],\n",
      "        [5., 6.]], device='cuda:0') tensor([[ 7.],\n",
      "        [11.]], device='cuda:0')\n"
     ]
    }
   ],
   "source": [
    "# NOTE - This line of code is not a part of model building,\n",
    "# this is used only for illustration of \n",
    "# how to print the input and output batches of data\n",
    "for x,y in dl:\n",
    "    print(x,y)"
   ],
   "metadata": {
    "collapsed": false,
    "ExecuteTime": {
     "end_time": "2024-10-30T13:08:15.264398Z",
     "start_time": "2024-10-30T13:08:15.188571Z"
    }
   },
   "id": "93e33f23c56f957e",
   "execution_count": 8
  },
  {
   "cell_type": "code",
   "outputs": [],
   "source": [
    "class MyNeuralNet(nn.Module):\n",
    "    def __init__(self):\n",
    "        super().__init__()\n",
    "        self.input_to_hidden_layer=nn.Linear(2,8)\n",
    "        self.hidden_layer_activation=nn.ReLU()\n",
    "        self.hidden_to_output_layer=nn.Linear(8,1)\n",
    "    def forward(self,x):\n",
    "        x=self.input_to_hidden_layer(x)\n",
    "        x=self.hidden_layer_activation(x)\n",
    "        x=self.hidden_to_output_layer(x)\n",
    "        return x"
   ],
   "metadata": {
    "collapsed": false,
    "ExecuteTime": {
     "end_time": "2024-10-30T13:08:15.285316300Z",
     "start_time": "2024-10-30T13:08:15.265414700Z"
    }
   },
   "id": "b0cd95342b5748b7",
   "execution_count": 9
  },
  {
   "cell_type": "code",
   "outputs": [],
   "source": [
    "mynet=MyNeuralNet().to(device)\n",
    "loss_func=nn.MSELoss()\n",
    "from torch.optim import SGD\n",
    "opt=SGD(mynet.parameters(),lr=0.001)"
   ],
   "metadata": {
    "collapsed": false,
    "ExecuteTime": {
     "end_time": "2024-10-30T13:08:16.479583900Z",
     "start_time": "2024-10-30T13:08:15.280815700Z"
    }
   },
   "id": "e457da6f032710c1",
   "execution_count": 10
  },
  {
   "cell_type": "code",
   "outputs": [
    {
     "name": "stdout",
     "output_type": "stream",
     "text": [
      "0.13586759567260742\n"
     ]
    }
   ],
   "source": [
    "import time\n",
    "loss_history=[]\n",
    "start=time.time()\n",
    "for _ in range(50):\n",
    "    for data in dl:\n",
    "        x,y=data\n",
    "        opt.zero_grad()\n",
    "        loss_value=loss_func(mynet(x),y)\n",
    "        loss_value.backward()\n",
    "        opt.step()\n",
    "        loss_history.append(loss_value)\n",
    "end=time.time()\n",
    "print(end-start)"
   ],
   "metadata": {
    "collapsed": false,
    "ExecuteTime": {
     "end_time": "2024-10-30T13:08:16.633613200Z",
     "start_time": "2024-10-30T13:08:16.480580500Z"
    }
   },
   "id": "f91538b48a9baa65",
   "execution_count": 11
  },
  {
   "cell_type": "code",
   "outputs": [],
   "source": [
    "val_x=[[10,11]]"
   ],
   "metadata": {
    "collapsed": false,
    "ExecuteTime": {
     "end_time": "2024-10-30T13:08:16.655327700Z",
     "start_time": "2024-10-30T13:08:16.634610100Z"
    }
   },
   "id": "9944de374cfac395",
   "execution_count": 12
  },
  {
   "cell_type": "code",
   "outputs": [],
   "source": [
    "val_x=torch.tensor(val_x).float().to(device)"
   ],
   "metadata": {
    "collapsed": false,
    "ExecuteTime": {
     "end_time": "2024-10-30T13:08:16.664645800Z",
     "start_time": "2024-10-30T13:08:16.650838100Z"
    }
   },
   "id": "3e40b6742c2d214d",
   "execution_count": 13
  },
  {
   "cell_type": "code",
   "outputs": [
    {
     "data": {
      "text/plain": "tensor([[20.5776]], device='cuda:0', grad_fn=<AddmmBackward0>)"
     },
     "execution_count": 14,
     "metadata": {},
     "output_type": "execute_result"
    }
   ],
   "source": [
    "mynet(val_x)"
   ],
   "metadata": {
    "collapsed": false,
    "ExecuteTime": {
     "end_time": "2024-10-30T13:08:16.686967100Z",
     "start_time": "2024-10-30T13:08:16.665663200Z"
    }
   },
   "id": "e7eb9062b867b807",
   "execution_count": 14
  }
 ],
 "metadata": {
  "kernelspec": {
   "display_name": "Python 3",
   "language": "python",
   "name": "python3"
  },
  "language_info": {
   "codemirror_mode": {
    "name": "ipython",
    "version": 2
   },
   "file_extension": ".py",
   "mimetype": "text/x-python",
   "name": "python",
   "nbconvert_exporter": "python",
   "pygments_lexer": "ipython2",
   "version": "2.7.6"
  }
 },
 "nbformat": 4,
 "nbformat_minor": 5
}
