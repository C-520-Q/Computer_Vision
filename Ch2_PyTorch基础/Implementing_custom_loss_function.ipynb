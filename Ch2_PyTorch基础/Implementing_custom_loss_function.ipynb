{
 "cells": [
  {
   "cell_type": "markdown",
   "source": [
    "## Implementing Custom Loss Function"
   ],
   "metadata": {
    "collapsed": false
   },
   "id": "3d748de51ae167b6"
  },
  {
   "cell_type": "code",
   "outputs": [
    {
     "name": "stderr",
     "output_type": "stream",
     "text": [
      "C:\\Users\\Lenovo\\AppData\\Local\\Temp\\ipykernel_37384\\1899756252.py:11: UserWarning: To copy construct from a tensor, it is recommended to use sourceTensor.clone().detach() or sourceTensor.clone().detach().requires_grad_(True), rather than torch.tensor(sourceTensor).\n",
      "  self.x=torch.tensor(x).float()\n",
      "C:\\Users\\Lenovo\\AppData\\Local\\Temp\\ipykernel_37384\\1899756252.py:12: UserWarning: To copy construct from a tensor, it is recommended to use sourceTensor.clone().detach() or sourceTensor.clone().detach().requires_grad_(True), rather than torch.tensor(sourceTensor).\n",
      "  self.y=torch.tensor(y).float()\n"
     ]
    }
   ],
   "source": [
    "import torch\n",
    "import torch.nn as nn\n",
    "from torch.utils.data import Dataset,DataLoader\n",
    "x=[[1,2],[3,4],[5,6],[7,8]]\n",
    "y=[[3],[7],[11],[15]]\n",
    "device='cuda' if torch.cuda.is_available() else 'cpu'\n",
    "X=torch.tensor(x).float().to(device)\n",
    "Y=torch.tensor(y).float().to(device)\n",
    "class MyDataset(Dataset):\n",
    "    def __init__(self,x,y):\n",
    "        self.x=torch.tensor(x).float()\n",
    "        self.y=torch.tensor(y).float()\n",
    "    def __len__(self):\n",
    "        return len(self.x)\n",
    "    def __getitem__(self, ix):\n",
    "        return self.x[ix],self.y[ix]\n",
    "ds=MyDataset(X,Y)\n",
    "dl=DataLoader(ds,batch_size=2,shuffle=True)\n",
    "class MyNeuralNet(nn.Module):\n",
    "    def __init__(self):\n",
    "        super().__init__()\n",
    "        self.input_to_hidden_layer=nn.Linear(2,8)\n",
    "        self.hidden_layer_activation=nn.ReLU()\n",
    "        self.hidden_to_output_layer=nn.Linear(8,1)\n",
    "    def forward(self,x):\n",
    "        x=self.input_to_hidden_layer(x)\n",
    "        x=self.hidden_layer_activation(x)\n",
    "        x=self.hidden_to_output_layer(x)\n",
    "        return x\n",
    "mynet=MyNeuralNet().to(device)"
   ],
   "metadata": {
    "collapsed": false,
    "ExecuteTime": {
     "end_time": "2024-10-30T13:17:02.539854Z",
     "start_time": "2024-10-30T13:17:00.099980500Z"
    }
   },
   "id": "ab7437b1eea4b02b",
   "execution_count": 1
  },
  {
   "cell_type": "code",
   "outputs": [],
   "source": [
    "def my_mean_square_error(_y,y):\n",
    "    loss=(_y-y)**2\n",
    "    loss=loss.mean()\n",
    "    return loss"
   ],
   "metadata": {
    "collapsed": false,
    "ExecuteTime": {
     "end_time": "2024-10-30T13:19:44.237031200Z",
     "start_time": "2024-10-30T13:19:44.224564600Z"
    }
   },
   "id": "3477ca013fe187a7",
   "execution_count": 5
  },
  {
   "cell_type": "code",
   "outputs": [
    {
     "name": "stdout",
     "output_type": "stream",
     "text": [
      "tensor(76.7521, device='cuda:0', grad_fn=<MseLossBackward0>)\n"
     ]
    }
   ],
   "source": [
    "loss_func=nn.MSELoss()\n",
    "loss_value=loss_func(mynet(X),Y)\n",
    "print(loss_value)"
   ],
   "metadata": {
    "collapsed": false,
    "ExecuteTime": {
     "end_time": "2024-10-30T13:18:58.076671Z",
     "start_time": "2024-10-30T13:18:58.028229300Z"
    }
   },
   "id": "b5107bd2ca87ec75",
   "execution_count": 3
  },
  {
   "cell_type": "code",
   "outputs": [
    {
     "data": {
      "text/plain": "tensor(76.7521, device='cuda:0', grad_fn=<MeanBackward0>)"
     },
     "execution_count": 6,
     "metadata": {},
     "output_type": "execute_result"
    }
   ],
   "source": [
    "my_mean_square_error(mynet(X),Y)"
   ],
   "metadata": {
    "collapsed": false,
    "ExecuteTime": {
     "end_time": "2024-10-30T13:19:45.567947400Z",
     "start_time": "2024-10-30T13:19:45.519039900Z"
    }
   },
   "id": "cda382fef0a47c67",
   "execution_count": 6
  },
  {
   "cell_type": "code",
   "outputs": [],
   "source": [
    "input_to_hidden = mynet.input_to_hidden_layer(X)\n",
    "hidden_activation = mynet.hidden_layer_activation(input_to_hidden)"
   ],
   "metadata": {
    "collapsed": false,
    "ExecuteTime": {
     "end_time": "2024-10-30T13:26:13.041296800Z",
     "start_time": "2024-10-30T13:26:13.030188Z"
    }
   },
   "id": "1398fd4c2313d5",
   "execution_count": 7
  }
 ],
 "metadata": {
  "kernelspec": {
   "display_name": "Python 3",
   "language": "python",
   "name": "python3"
  },
  "language_info": {
   "codemirror_mode": {
    "name": "ipython",
    "version": 2
   },
   "file_extension": ".py",
   "mimetype": "text/x-python",
   "name": "python",
   "nbconvert_exporter": "python",
   "pygments_lexer": "ipython2",
   "version": "2.7.6"
  }
 },
 "nbformat": 4,
 "nbformat_minor": 5
}
