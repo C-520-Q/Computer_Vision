{
 "cells": [
  {
   "cell_type": "markdown",
   "source": [
    "## Sequential Method To Build A Neural Network"
   ],
   "metadata": {
    "collapsed": false
   },
   "id": "958c86ba28290e3"
  },
  {
   "cell_type": "code",
   "outputs": [],
   "source": [
    "x=[[1,2],[3,4],[5,6],[7,8]]\n",
    "y=[[3],[7],[11],[15]]"
   ],
   "metadata": {
    "collapsed": false,
    "ExecuteTime": {
     "end_time": "2024-10-30T14:11:51.303755600Z",
     "start_time": "2024-10-30T14:11:51.293112700Z"
    }
   },
   "id": "24ffca3befabc03a",
   "execution_count": 1
  },
  {
   "cell_type": "code",
   "outputs": [],
   "source": [
    "import torch\n",
    "import torch.nn as nn\n",
    "import time\n",
    "import numpy as np\n",
    "from torch.optim import SGD\n",
    "from torch.utils.data import Dataset,DataLoader\n",
    "from  torchsummary import summary\n",
    "device='cuda' if torch.cuda.is_available() else 'cpu'"
   ],
   "metadata": {
    "collapsed": false,
    "ExecuteTime": {
     "end_time": "2024-10-30T14:11:53.601333600Z",
     "start_time": "2024-10-30T14:11:51.301757200Z"
    }
   },
   "id": "881adedffe099664",
   "execution_count": 2
  },
  {
   "cell_type": "code",
   "outputs": [],
   "source": [
    "class MyDataset(Dataset):\n",
    "    def __init__(self,x,y):\n",
    "        self.x=torch.tensor(x).float().to(device)\n",
    "        self.y=torch.tensor(y).float().to(device)\n",
    "    def __getitem__(self, ix):\n",
    "        return self.x[ix],self.y[ix]\n",
    "    def __len__(self):\n",
    "        return len(self.x)"
   ],
   "metadata": {
    "collapsed": false,
    "ExecuteTime": {
     "end_time": "2024-10-30T14:11:53.616893200Z",
     "start_time": "2024-10-30T14:11:53.603326800Z"
    }
   },
   "id": "8d22ced45f2df71e",
   "execution_count": 3
  },
  {
   "cell_type": "code",
   "outputs": [],
   "source": [
    "ds=MyDataset(x,y)\n",
    "dl=DataLoader(ds,batch_size=2,shuffle=True)"
   ],
   "metadata": {
    "collapsed": false,
    "ExecuteTime": {
     "end_time": "2024-10-30T14:11:53.787264300Z",
     "start_time": "2024-10-30T14:11:53.618886500Z"
    }
   },
   "id": "c500317763da15b2",
   "execution_count": 4
  },
  {
   "cell_type": "code",
   "outputs": [],
   "source": [
    "model=nn.Sequential(\n",
    "    nn.Linear(2,8),\n",
    "    nn.ReLU(),\n",
    "    nn.Linear(8,1)\n",
    ").to(device)"
   ],
   "metadata": {
    "collapsed": false,
    "ExecuteTime": {
     "end_time": "2024-10-30T14:11:53.802925700Z",
     "start_time": "2024-10-30T14:11:53.789766500Z"
    }
   },
   "id": "1b377793d40aaeda",
   "execution_count": 5
  },
  {
   "cell_type": "code",
   "outputs": [
    {
     "name": "stdout",
     "output_type": "stream",
     "text": [
      "----------------------------------------------------------------\n",
      "        Layer (type)               Output Shape         Param #\n",
      "================================================================\n",
      "            Linear-1                 [-1, 1, 8]              24\n",
      "              ReLU-2                 [-1, 1, 8]               0\n",
      "            Linear-3                 [-1, 1, 1]               9\n",
      "================================================================\n",
      "Total params: 33\n",
      "Trainable params: 33\n",
      "Non-trainable params: 0\n",
      "----------------------------------------------------------------\n",
      "Input size (MB): 0.00\n",
      "Forward/backward pass size (MB): 0.00\n",
      "Params size (MB): 0.00\n",
      "Estimated Total Size (MB): 0.00\n",
      "----------------------------------------------------------------\n"
     ]
    }
   ],
   "source": [
    "summary(model,(1,2))"
   ],
   "metadata": {
    "collapsed": false,
    "ExecuteTime": {
     "end_time": "2024-10-30T14:11:53.894672500Z",
     "start_time": "2024-10-30T14:11:53.804918500Z"
    }
   },
   "id": "3135903adc907f2c",
   "execution_count": 6
  },
  {
   "cell_type": "code",
   "outputs": [
    {
     "name": "stdout",
     "output_type": "stream",
     "text": [
      "0.0909721851348877\n"
     ]
    }
   ],
   "source": [
    "loss_func=nn.MSELoss()\n",
    "opt=SGD(model.parameters(),lr=0.001)\n",
    "loss_history=[]\n",
    "start=time.time()\n",
    "for _ in range(50):\n",
    "    for ix,iy in dl:\n",
    "        opt.zero_grad()\n",
    "        loss_value=loss_func(model(ix),iy)\n",
    "        loss_value.backward()\n",
    "        opt.step()\n",
    "        loss_history.append(loss_value)\n",
    "end=time.time()\n",
    "print(end-start)"
   ],
   "metadata": {
    "collapsed": false,
    "ExecuteTime": {
     "end_time": "2024-10-30T14:11:55.214353500Z",
     "start_time": "2024-10-30T14:11:53.896775800Z"
    }
   },
   "id": "ce9e88d2f4031e89",
   "execution_count": 7
  },
  {
   "cell_type": "code",
   "outputs": [],
   "source": [
    "val=[[8,9],[10,11],[1.5,2.5]]\n",
    "val=torch.tensor(val).float().to(device)"
   ],
   "metadata": {
    "collapsed": false,
    "ExecuteTime": {
     "end_time": "2024-10-30T14:11:55.229854500Z",
     "start_time": "2024-10-30T14:11:55.215857900Z"
    }
   },
   "id": "d7df7318240f82ea",
   "execution_count": 8
  },
  {
   "cell_type": "code",
   "outputs": [
    {
     "data": {
      "text/plain": "tensor([[17.0146],\n        [21.0260],\n        [ 3.9798]], device='cuda:0', grad_fn=<AddmmBackward0>)"
     },
     "execution_count": 9,
     "metadata": {},
     "output_type": "execute_result"
    }
   ],
   "source": [
    "model(val)"
   ],
   "metadata": {
    "collapsed": false,
    "ExecuteTime": {
     "end_time": "2024-10-30T14:11:55.277975500Z",
     "start_time": "2024-10-30T14:11:55.229854500Z"
    }
   },
   "id": "a98f52383156d889",
   "execution_count": 9
  },
  {
   "cell_type": "code",
   "outputs": [
    {
     "data": {
      "text/plain": "tensor([17., 21.,  4.], device='cuda:0')"
     },
     "execution_count": 10,
     "metadata": {},
     "output_type": "execute_result"
    }
   ],
   "source": [
    "val.sum(-1)"
   ],
   "metadata": {
    "collapsed": false,
    "ExecuteTime": {
     "end_time": "2024-10-30T14:11:55.291877700Z",
     "start_time": "2024-10-30T14:11:55.277975500Z"
    }
   },
   "id": "47fa40920e965bfd",
   "execution_count": 10
  }
 ],
 "metadata": {
  "kernelspec": {
   "display_name": "Python 3",
   "language": "python",
   "name": "python3"
  },
  "language_info": {
   "codemirror_mode": {
    "name": "ipython",
    "version": 2
   },
   "file_extension": ".py",
   "mimetype": "text/x-python",
   "name": "python",
   "nbconvert_exporter": "python",
   "pygments_lexer": "ipython2",
   "version": "2.7.6"
  }
 },
 "nbformat": 4,
 "nbformat_minor": 5
}
