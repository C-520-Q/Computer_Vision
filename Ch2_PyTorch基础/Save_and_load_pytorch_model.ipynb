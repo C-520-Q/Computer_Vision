{
 "cells": [
  {
   "cell_type": "markdown",
   "source": [
    "## Save And Load PyTorch Model"
   ],
   "metadata": {
    "collapsed": false
   },
   "id": "1b3495cb46463821"
  },
  {
   "cell_type": "code",
   "outputs": [],
   "source": [
    "import torch\n",
    "import torch.nn as nn\n",
    "import numpy as np\n",
    "import time\n",
    "from torch.utils.data import Dataset,DataLoader\n",
    "from torchsummary import summary\n",
    "from torch.optim import SGD\n",
    "device='cuda' if torch.cuda.is_available() else 'cpu'"
   ],
   "metadata": {
    "collapsed": false,
    "ExecuteTime": {
     "end_time": "2024-10-30T14:32:07.159804600Z",
     "start_time": "2024-10-30T14:32:04.939585300Z"
    }
   },
   "id": "98db3d14fbe56119",
   "execution_count": 1
  },
  {
   "cell_type": "code",
   "outputs": [],
   "source": [
    "x=[[1,2],[3,4],[5,6],[7,8]]\n",
    "y=[[3],[7],[11],[15]]"
   ],
   "metadata": {
    "collapsed": false,
    "ExecuteTime": {
     "end_time": "2024-10-30T14:32:07.174333500Z",
     "start_time": "2024-10-30T14:32:07.160807200Z"
    }
   },
   "id": "307382ec0ab14d23",
   "execution_count": 2
  },
  {
   "cell_type": "code",
   "outputs": [],
   "source": [
    "class MyDataset(Dataset):\n",
    "    def __init__(self,x,y):\n",
    "        self.x=torch.tensor(x).float().to(device)\n",
    "        self.y=torch.tensor(y).float().to(device)\n",
    "    def __len__(self):\n",
    "        return len(self.x)\n",
    "    def __getitem__(self, ix):\n",
    "        return self.x[ix],self.y[ix]"
   ],
   "metadata": {
    "collapsed": false,
    "ExecuteTime": {
     "end_time": "2024-10-30T14:32:07.192445200Z",
     "start_time": "2024-10-30T14:32:07.176326500Z"
    }
   },
   "id": "c1b827ddd9eedc5e",
   "execution_count": 3
  },
  {
   "cell_type": "code",
   "outputs": [],
   "source": [
    "ds=MyDataset(x,y)\n",
    "dl=DataLoader(ds,batch_size=2,shuffle=True)"
   ],
   "metadata": {
    "collapsed": false,
    "ExecuteTime": {
     "end_time": "2024-10-30T14:32:07.297397100Z",
     "start_time": "2024-10-30T14:32:07.192445200Z"
    }
   },
   "id": "741681cba38928ca",
   "execution_count": 4
  },
  {
   "cell_type": "code",
   "outputs": [],
   "source": [
    "model=nn.Sequential(\n",
    "    nn.Linear(2,8),\n",
    "    nn.ReLU(),\n",
    "    nn.Linear(8,1)\n",
    ").to(device)"
   ],
   "metadata": {
    "collapsed": false,
    "ExecuteTime": {
     "end_time": "2024-10-30T14:32:07.312346200Z",
     "start_time": "2024-10-30T14:32:07.298395200Z"
    }
   },
   "id": "4a4a77ab59fccc25",
   "execution_count": 5
  },
  {
   "cell_type": "code",
   "outputs": [
    {
     "name": "stdout",
     "output_type": "stream",
     "text": [
      "----------------------------------------------------------------\n",
      "        Layer (type)               Output Shape         Param #\n",
      "================================================================\n",
      "            Linear-1                 [-1, 1, 8]              24\n",
      "              ReLU-2                 [-1, 1, 8]               0\n",
      "            Linear-3                 [-1, 1, 1]               9\n",
      "================================================================\n",
      "Total params: 33\n",
      "Trainable params: 33\n",
      "Non-trainable params: 0\n",
      "----------------------------------------------------------------\n",
      "Input size (MB): 0.00\n",
      "Forward/backward pass size (MB): 0.00\n",
      "Params size (MB): 0.00\n",
      "Estimated Total Size (MB): 0.00\n",
      "----------------------------------------------------------------\n"
     ]
    }
   ],
   "source": [
    "summary(model,(1,2))"
   ],
   "metadata": {
    "collapsed": false,
    "ExecuteTime": {
     "end_time": "2024-10-30T14:32:07.375892400Z",
     "start_time": "2024-10-30T14:32:07.314339600Z"
    }
   },
   "id": "fd53639cf5ba1279",
   "execution_count": 6
  },
  {
   "cell_type": "code",
   "outputs": [
    {
     "name": "stdout",
     "output_type": "stream",
     "text": [
      "0.10435295104980469\n"
     ]
    }
   ],
   "source": [
    "loss_func=nn.MSELoss()\n",
    "opt=SGD(model.parameters(),lr=0.001)\n",
    "loss_history=[]\n",
    "start=time.time()\n",
    "for _ in range(50):\n",
    "    for ix,iy in dl:\n",
    "        opt.zero_grad()\n",
    "        loss_value=loss_func(model(ix),iy)\n",
    "        loss_value.backward()\n",
    "        opt.step()\n",
    "        loss_history.append(loss_value)\n",
    "end=time.time()\n",
    "print(end-start)"
   ],
   "metadata": {
    "collapsed": false,
    "ExecuteTime": {
     "end_time": "2024-10-30T14:32:08.663209300Z",
     "start_time": "2024-10-30T14:32:07.377932900Z"
    }
   },
   "id": "e4b382065842f0e0",
   "execution_count": 7
  },
  {
   "cell_type": "code",
   "outputs": [],
   "source": [
    "save_path='mymodel.pth'\n",
    "torch.save(model.state_dict(),save_path)"
   ],
   "metadata": {
    "collapsed": false,
    "ExecuteTime": {
     "end_time": "2024-10-30T14:32:08.686712200Z",
     "start_time": "2024-10-30T14:32:08.665203300Z"
    }
   },
   "id": "a290411bbfccab52",
   "execution_count": 8
  },
  {
   "cell_type": "code",
   "outputs": [
    {
     "data": {
      "text/plain": "<All keys matched successfully>"
     },
     "execution_count": 9,
     "metadata": {},
     "output_type": "execute_result"
    }
   ],
   "source": [
    "load_path='mymodel.pth'\n",
    "model.load_state_dict(torch.load(load_path))"
   ],
   "metadata": {
    "collapsed": false,
    "ExecuteTime": {
     "end_time": "2024-10-30T14:32:08.699299100Z",
     "start_time": "2024-10-30T14:32:08.680303100Z"
    }
   },
   "id": "54e6f5bb81e9510b",
   "execution_count": 9
  },
  {
   "cell_type": "code",
   "outputs": [],
   "source": [
    "val=[[8,9],[10,11],[1.5,2.5]]\n",
    "val=torch.tensor(val).float().to(device)"
   ],
   "metadata": {
    "collapsed": false,
    "ExecuteTime": {
     "end_time": "2024-10-30T14:32:08.712892100Z",
     "start_time": "2024-10-30T14:32:08.695751200Z"
    }
   },
   "id": "b222edb06d0b20d8",
   "execution_count": 10
  },
  {
   "cell_type": "code",
   "outputs": [
    {
     "data": {
      "text/plain": "tensor([[16.8088],\n        [20.6604],\n        [ 4.2733]], device='cuda:0', grad_fn=<AddmmBackward0>)"
     },
     "execution_count": 11,
     "metadata": {},
     "output_type": "execute_result"
    }
   ],
   "source": [
    "model(val)"
   ],
   "metadata": {
    "collapsed": false,
    "ExecuteTime": {
     "end_time": "2024-10-30T14:32:08.757550900Z",
     "start_time": "2024-10-30T14:32:08.711895Z"
    }
   },
   "id": "7bf3d042a07ecbc6",
   "execution_count": 11
  },
  {
   "cell_type": "code",
   "outputs": [
    {
     "data": {
      "text/plain": "tensor([17., 21.,  4.], device='cuda:0')"
     },
     "execution_count": 12,
     "metadata": {},
     "output_type": "execute_result"
    }
   ],
   "source": [
    "val.sum(-1)"
   ],
   "metadata": {
    "collapsed": false,
    "ExecuteTime": {
     "end_time": "2024-10-30T14:32:08.781996300Z",
     "start_time": "2024-10-30T14:32:08.758555Z"
    }
   },
   "id": "c5f51a244815410b",
   "execution_count": 12
  }
 ],
 "metadata": {
  "kernelspec": {
   "display_name": "Python 3",
   "language": "python",
   "name": "python3"
  },
  "language_info": {
   "codemirror_mode": {
    "name": "ipython",
    "version": 2
   },
   "file_extension": ".py",
   "mimetype": "text/x-python",
   "name": "python",
   "nbconvert_exporter": "python",
   "pygments_lexer": "ipython2",
   "version": "2.7.6"
  }
 },
 "nbformat": 4,
 "nbformat_minor": 5
}
