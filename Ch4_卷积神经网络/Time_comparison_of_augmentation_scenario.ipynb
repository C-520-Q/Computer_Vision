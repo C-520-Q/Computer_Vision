{
 "cells": [
  {
   "cell_type": "markdown",
   "source": [
    "## Time Comparison Of Augmentation Scenario"
   ],
   "metadata": {
    "collapsed": false
   },
   "id": "669f109e187e1194"
  },
  {
   "cell_type": "code",
   "outputs": [
    {
     "data": {
      "text/plain": "torch.Size([60000, 28, 28])"
     },
     "execution_count": 1,
     "metadata": {},
     "output_type": "execute_result"
    }
   ],
   "source": [
    "from torchvision import datasets\n",
    "from imgaug import augmenters as iaa\n",
    "fmnist=datasets.FashionMNIST(r'../data',download=True,train=True)\n",
    "val_fmnist=datasets.FashionMNIST(r'../data',download=True,train=False)\n",
    "tr_images,tr_targets=fmnist.data,fmnist.targets\n",
    "val_images,val_targets=val_fmnist.data,val_fmnist.targets\n",
    "tr_images.shape"
   ],
   "metadata": {
    "collapsed": false,
    "ExecuteTime": {
     "end_time": "2024-11-03T09:31:02.501841800Z",
     "start_time": "2024-11-03T09:30:58.183808600Z"
    }
   },
   "id": "537c22491e95cb11",
   "execution_count": 1
  },
  {
   "cell_type": "code",
   "outputs": [],
   "source": [
    "def to_numpy(tensor):\n",
    "    return tensor.cpu().detach().numpy()"
   ],
   "metadata": {
    "collapsed": false,
    "ExecuteTime": {
     "end_time": "2024-11-03T09:31:02.517623100Z",
     "start_time": "2024-11-03T09:31:02.504917800Z"
    }
   },
   "id": "5ff0203ffa6eeb7a",
   "execution_count": 2
  },
  {
   "cell_type": "code",
   "outputs": [],
   "source": [
    "aug=iaa.Sequential([\n",
    "    iaa.Affine(translate_px={'x':(-10,10)},mode='constant'),\n",
    "])"
   ],
   "metadata": {
    "collapsed": false,
    "ExecuteTime": {
     "end_time": "2024-11-03T09:31:02.540150900Z",
     "start_time": "2024-11-03T09:31:02.519676600Z"
    }
   },
   "id": "592aa250394e9712",
   "execution_count": 3
  },
  {
   "cell_type": "code",
   "outputs": [
    {
     "name": "stdout",
     "output_type": "stream",
     "text": [
      "CPU times: total: 250 ms\n",
      "Wall time: 24.6 ms\n"
     ]
    }
   ],
   "source": [
    "%%time\n",
    "for i in range(32):\n",
    "    aug.augment_image(to_numpy(tr_images[i]))"
   ],
   "metadata": {
    "collapsed": false,
    "ExecuteTime": {
     "end_time": "2024-11-03T09:31:02.580780200Z",
     "start_time": "2024-11-03T09:31:02.535043900Z"
    }
   },
   "id": "b3b3baa55c05308a",
   "execution_count": 4
  },
  {
   "cell_type": "code",
   "outputs": [
    {
     "name": "stdout",
     "output_type": "stream",
     "text": [
      "CPU times: total: 0 ns\n",
      "Wall time: 5.03 ms\n"
     ]
    }
   ],
   "source": [
    "%%time\n",
    "x = aug.augment_images(to_numpy(tr_images[:32]))"
   ],
   "metadata": {
    "collapsed": false,
    "ExecuteTime": {
     "end_time": "2024-11-03T09:31:02.605297Z",
     "start_time": "2024-11-03T09:31:02.581797700Z"
    }
   },
   "id": "2006027ce45291b8",
   "execution_count": 5
  }
 ],
 "metadata": {
  "kernelspec": {
   "display_name": "Python 3",
   "language": "python",
   "name": "python3"
  },
  "language_info": {
   "codemirror_mode": {
    "name": "ipython",
    "version": 2
   },
   "file_extension": ".py",
   "mimetype": "text/x-python",
   "name": "python",
   "nbconvert_exporter": "python",
   "pygments_lexer": "ipython2",
   "version": "2.7.6"
  }
 },
 "nbformat": 4,
 "nbformat_minor": 5
}
