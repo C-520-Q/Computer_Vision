{
 "cells": [
  {
   "cell_type": "markdown",
   "source": [
    "## CNN Working Details"
   ],
   "metadata": {
    "collapsed": false
   },
   "id": "9b80d46341a28f0a"
  },
  {
   "cell_type": "code",
   "outputs": [],
   "source": [
    "import torch\n",
    "from torch import nn\n",
    "from torch.utils.data import TensorDataset,Dataset,DataLoader\n",
    "from torch.optim import Adam\n",
    "from torchvision import datasets\n",
    "from torch.nn import functional as F\n",
    "from torchsummary import summary\n",
    "import numpy as np\n",
    "import matplotlib.pyplot as plt\n",
    "%matplotlib inline\n",
    "device='cuda' if torch.cuda.is_available() else 'cpu'"
   ],
   "metadata": {
    "collapsed": false,
    "ExecuteTime": {
     "end_time": "2024-11-02T09:14:38.209991200Z",
     "start_time": "2024-11-02T09:14:34.091431Z"
    }
   },
   "id": "d11aaa6e0033c955",
   "execution_count": 1
  },
  {
   "cell_type": "code",
   "outputs": [],
   "source": [
    "X_train = torch.tensor([[[[1,2,3,4],[2,3,4,5],[5,6,7,8],[1,3,4,5]]],[[[-1,2,3,-4],[2,-3,4,5],[-5,6,-7,8],[-1,-3,-4,-5]]]]).to(device).float()\n",
    "X_train /= 8\n",
    "y_train = torch.tensor([0,1]).to(device).float()"
   ],
   "metadata": {
    "collapsed": false,
    "ExecuteTime": {
     "end_time": "2024-11-02T09:14:38.303916100Z",
     "start_time": "2024-11-02T09:14:38.211985100Z"
    }
   },
   "id": "9be9044224148d0c",
   "execution_count": 2
  },
  {
   "cell_type": "code",
   "outputs": [],
   "source": [
    "def get_model():\n",
    "    model=nn.Sequential(\n",
    "        nn.Conv2d(1,1,kernel_size=3),\n",
    "        nn.MaxPool2d(2),\n",
    "        nn.ReLU(),\n",
    "        nn.Flatten(),\n",
    "        nn.Linear(1,1),\n",
    "        nn.Sigmoid()\n",
    "    ).to(device)\n",
    "    loss_fn=nn.BCELoss()\n",
    "    optimizer=Adam(model.parameters(),lr=1e-2)\n",
    "    return model,loss_fn,optimizer\n",
    "    "
   ],
   "metadata": {
    "collapsed": false,
    "ExecuteTime": {
     "end_time": "2024-11-02T09:14:38.318866500Z",
     "start_time": "2024-11-02T09:14:38.305912900Z"
    }
   },
   "id": "c58f1cdf4f8c9134",
   "execution_count": 3
  },
  {
   "cell_type": "code",
   "outputs": [
    {
     "name": "stdout",
     "output_type": "stream",
     "text": [
      "----------------------------------------------------------------\n",
      "        Layer (type)               Output Shape         Param #\n",
      "================================================================\n",
      "            Conv2d-1              [-1, 1, 2, 2]              10\n",
      "         MaxPool2d-2              [-1, 1, 1, 1]               0\n",
      "              ReLU-3              [-1, 1, 1, 1]               0\n",
      "           Flatten-4                    [-1, 1]               0\n",
      "            Linear-5                    [-1, 1]               2\n",
      "           Sigmoid-6                    [-1, 1]               0\n",
      "================================================================\n",
      "Total params: 12\n",
      "Trainable params: 12\n",
      "Non-trainable params: 0\n",
      "----------------------------------------------------------------\n",
      "Input size (MB): 0.00\n",
      "Forward/backward pass size (MB): 0.00\n",
      "Params size (MB): 0.00\n",
      "Estimated Total Size (MB): 0.00\n",
      "----------------------------------------------------------------\n"
     ]
    }
   ],
   "source": [
    "model,loss_fn,optimizer=get_model()\n",
    "summary(model,X_train.shape[1:])"
   ],
   "metadata": {
    "collapsed": false,
    "ExecuteTime": {
     "end_time": "2024-11-02T09:14:38.459400800Z",
     "start_time": "2024-11-02T09:14:38.322856500Z"
    }
   },
   "id": "10849706766be74",
   "execution_count": 4
  },
  {
   "cell_type": "code",
   "outputs": [],
   "source": [
    "def train_batch(x,y,model,opt,loss_fn):\n",
    "    model.train()\n",
    "    batch_loss=loss_fn(model(x),y)\n",
    "    batch_loss.backward()\n",
    "    opt.step()\n",
    "    opt.zero_grad()\n",
    "    return batch_loss.item()"
   ],
   "metadata": {
    "collapsed": false,
    "ExecuteTime": {
     "end_time": "2024-11-02T09:14:38.481326500Z",
     "start_time": "2024-11-02T09:14:38.461389300Z"
    }
   },
   "id": "1fb798b5426679fa",
   "execution_count": 5
  },
  {
   "cell_type": "code",
   "outputs": [],
   "source": [
    "trn_dl=DataLoader(TensorDataset(X_train,y_train))"
   ],
   "metadata": {
    "collapsed": false,
    "ExecuteTime": {
     "end_time": "2024-11-02T09:14:38.491289500Z",
     "start_time": "2024-11-02T09:14:38.477336Z"
    }
   },
   "id": "3ba47849f4928aa6",
   "execution_count": 6
  },
  {
   "cell_type": "code",
   "outputs": [],
   "source": [
    "for epoch in range(2000):\n",
    "    for ix,batch in enumerate(iter(trn_dl)):\n",
    "        x,y=batch\n",
    "        batch_loss=train_batch(x,y.reshape(1,1),model,optimizer,loss_fn)"
   ],
   "metadata": {
    "collapsed": false,
    "ExecuteTime": {
     "end_time": "2024-11-02T09:14:42.211184300Z",
     "start_time": "2024-11-02T09:14:38.493282800Z"
    }
   },
   "id": "c28083cee60b8a5b",
   "execution_count": 7
  },
  {
   "cell_type": "code",
   "outputs": [
    {
     "data": {
      "text/plain": "tensor([[0.5001]], device='cuda:0', grad_fn=<SigmoidBackward0>)"
     },
     "execution_count": 8,
     "metadata": {},
     "output_type": "execute_result"
    }
   ],
   "source": [
    "model(X_train[:1])"
   ],
   "metadata": {
    "collapsed": false,
    "ExecuteTime": {
     "end_time": "2024-11-02T09:14:42.258557300Z",
     "start_time": "2024-11-02T09:14:42.212180100Z"
    }
   },
   "id": "6086073ae8eb6163",
   "execution_count": 8
  },
  {
   "cell_type": "code",
   "outputs": [
    {
     "data": {
      "text/plain": "[Conv2d(1, 1, kernel_size=(3, 3), stride=(1, 1)),\n MaxPool2d(kernel_size=2, stride=2, padding=0, dilation=1, ceil_mode=False),\n ReLU(),\n Flatten(start_dim=1, end_dim=-1),\n Linear(in_features=1, out_features=1, bias=True),\n Sigmoid()]"
     },
     "execution_count": 9,
     "metadata": {},
     "output_type": "execute_result"
    }
   ],
   "source": [
    "list(model.children())"
   ],
   "metadata": {
    "collapsed": false,
    "ExecuteTime": {
     "end_time": "2024-11-02T09:14:42.278728300Z",
     "start_time": "2024-11-02T09:14:42.260550800Z"
    }
   },
   "id": "3493d7389e5f9768",
   "execution_count": 9
  },
  {
   "cell_type": "code",
   "outputs": [],
   "source": [
    "(cnn_w,cnn_b),(lin_w,lin_b)=[(layer.weight.data,layer.bias.data) for layer in list(model.children()) if hasattr(layer,'weight')]"
   ],
   "metadata": {
    "collapsed": false,
    "ExecuteTime": {
     "end_time": "2024-11-02T09:14:42.292681600Z",
     "start_time": "2024-11-02T09:14:42.276734900Z"
    }
   },
   "id": "561733c97dd0d6dd",
   "execution_count": 10
  },
  {
   "cell_type": "code",
   "outputs": [],
   "source": [
    "h_im,w_im=X_train.shape[2:]\n",
    "h_conv,w_conv=cnn_w.shape[2:]\n",
    "sumprob=torch.zeros((h_im-h_conv+1),(w_im-w_conv+1))"
   ],
   "metadata": {
    "collapsed": false,
    "ExecuteTime": {
     "end_time": "2024-11-02T09:14:42.306634800Z",
     "start_time": "2024-11-02T09:14:42.291684600Z"
    }
   },
   "id": "c889dd2e0f77f219",
   "execution_count": 11
  },
  {
   "cell_type": "code",
   "outputs": [],
   "source": [
    "for i in range(h_im-h_conv+1):\n",
    "    for j in range(w_im-w_conv+1):\n",
    "        img_subset=X_train[0,0,i:i+3,j:j+3]\n",
    "        model_filter=cnn_w.reshape(3,3)\n",
    "        val=torch.sum(img_subset*model_filter)+cnn_b\n",
    "        sumprob[i,j]=val"
   ],
   "metadata": {
    "collapsed": false,
    "ExecuteTime": {
     "end_time": "2024-11-02T09:14:42.320588100Z",
     "start_time": "2024-11-02T09:14:42.305638100Z"
    }
   },
   "id": "6044270499b5e240",
   "execution_count": 12
  },
  {
   "cell_type": "code",
   "outputs": [
    {
     "data": {
      "text/plain": "tensor([[0., 0.],\n        [0., 0.]])"
     },
     "execution_count": 13,
     "metadata": {},
     "output_type": "execute_result"
    }
   ],
   "source": [
    "sumprob.clamp_min(0)"
   ],
   "metadata": {
    "collapsed": false,
    "ExecuteTime": {
     "end_time": "2024-11-02T09:14:42.341517700Z",
     "start_time": "2024-11-02T09:14:42.322581400Z"
    }
   },
   "id": "9d68b42c8d3da285",
   "execution_count": 13
  },
  {
   "cell_type": "code",
   "outputs": [],
   "source": [
    "pooling_layer_output=torch.max(sumprob)"
   ],
   "metadata": {
    "collapsed": false,
    "ExecuteTime": {
     "end_time": "2024-11-02T09:14:42.351989400Z",
     "start_time": "2024-11-02T09:14:42.338528100Z"
    }
   },
   "id": "908ffeb725888d49",
   "execution_count": 14
  },
  {
   "cell_type": "code",
   "outputs": [],
   "source": [
    "intermediate_output_layer=pooling_layer_output*lin_w+lin_b"
   ],
   "metadata": {
    "collapsed": false,
    "ExecuteTime": {
     "end_time": "2024-11-02T09:14:42.370926100Z",
     "start_time": "2024-11-02T09:14:42.353983300Z"
    }
   },
   "id": "e3d9c02703015f1d",
   "execution_count": 15
  },
  {
   "cell_type": "code",
   "outputs": [
    {
     "name": "stdout",
     "output_type": "stream",
     "text": [
      "tensor([[0.6288]], device='cuda:0')\n"
     ]
    }
   ],
   "source": [
    "print(F.sigmoid(intermediate_output_layer))"
   ],
   "metadata": {
    "collapsed": false,
    "ExecuteTime": {
     "end_time": "2024-11-02T09:14:42.381889200Z",
     "start_time": "2024-11-02T09:14:42.367936200Z"
    }
   },
   "id": "689dbc22a45e6ade",
   "execution_count": 16
  }
 ],
 "metadata": {
  "kernelspec": {
   "display_name": "Python 3",
   "language": "python",
   "name": "python3"
  },
  "language_info": {
   "codemirror_mode": {
    "name": "ipython",
    "version": 2
   },
   "file_extension": ".py",
   "mimetype": "text/x-python",
   "name": "python",
   "nbconvert_exporter": "python",
   "pygments_lexer": "ipython2",
   "version": "2.7.6"
  }
 },
 "nbformat": 4,
 "nbformat_minor": 5
}
