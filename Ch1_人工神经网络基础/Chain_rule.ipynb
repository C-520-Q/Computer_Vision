{
 "cells": [
  {
   "cell_type": "markdown",
   "source": [
    "## Chain Rule"
   ],
   "metadata": {
    "collapsed": false
   },
   "id": "6ca3aed62c07f9dd"
  },
  {
   "cell_type": "code",
   "outputs": [],
   "source": [
    "from copy import deepcopy\n",
    "import numpy as np\n",
    "def line():\n",
    "    print('='*80)\n",
    "def feed_forward(inputs, outputs, weights):     \n",
    "    pre_hidden = np.dot(inputs,weights[0])+ weights[1]\n",
    "    hidden = 1/(1+np.exp(-pre_hidden))\n",
    "    out = np.dot(hidden, weights[2]) + weights[3]\n",
    "    mean_squared_error = np.mean(np.square(out - outputs))\n",
    "    return mean_squared_error"
   ],
   "metadata": {
    "collapsed": false,
    "ExecuteTime": {
     "end_time": "2024-10-29T13:04:48.309147200Z",
     "start_time": "2024-10-29T13:04:48.198352100Z"
    }
   },
   "id": "faaf5844d0b57823",
   "execution_count": 1
  },
  {
   "cell_type": "code",
   "outputs": [],
   "source": [
    "def update_weights(inputs, outputs, weights, lr):\n",
    "    original_weights = deepcopy(weights)\n",
    "    temp_weights = deepcopy(weights)\n",
    "    updated_weights = deepcopy(weights)\n",
    "    original_loss = feed_forward(inputs, outputs, original_weights)\n",
    "    for i, layer in enumerate(original_weights):\n",
    "        for index, weight in np.ndenumerate(layer):\n",
    "            temp_weights = deepcopy(weights)\n",
    "            temp_weights[i][index] += 0.0001\n",
    "            _loss_plus = feed_forward(inputs, outputs, temp_weights)\n",
    "            grad = (_loss_plus - original_loss)/(0.0001)\n",
    "            updated_weights[i][index] -= grad*lr\n",
    "    return updated_weights"
   ],
   "metadata": {
    "collapsed": false,
    "ExecuteTime": {
     "end_time": "2024-10-29T13:04:48.323580800Z",
     "start_time": "2024-10-29T13:04:48.311556100Z"
    }
   },
   "id": "5559c393b7ad46ba",
   "execution_count": 2
  },
  {
   "cell_type": "code",
   "outputs": [
    {
     "name": "stdout",
     "output_type": "stream",
     "text": [
      "================================================================================\n",
      "LOSS:\n",
      "0.33455008989960927\n",
      "================================================================================\n",
      "WEIGHTS:\n",
      "[[-0.0053 -0.582  -0.2723]\n",
      " [ 0.3793 -0.5204  0.1896]]\n",
      "[-0.014   0.5607 -0.0628]\n",
      "[[ 0.1528]\n",
      " [-0.1745]\n",
      " [-0.1135]]\n",
      "[-0.5516]\n",
      "================================================================================\n",
      "UPDATED WEIGHTS:\n",
      "[[ 0.03748801 -0.62894595 -0.30494714]\n",
      " [ 0.42208242 -0.5673459   0.156948  ]]\n",
      "[ 0.02878801  0.51375407 -0.09545201]\n",
      "[[0.8341824 ]\n",
      " [0.25095794]\n",
      " [0.4228859 ]]\n",
      "[0.60529804]\n"
     ]
    }
   ],
   "source": [
    "x = np.array([[1,1]]); y = np.array([[0]])  \n",
    "W = [\n",
    "    np.array([[-0.0053, 0.3793],\n",
    "              [-0.5820, -0.5204],\n",
    "              [-0.2723, 0.1896]], dtype=np.float32).T, \n",
    "    np.array([-0.0140, 0.5607, -0.0628], dtype=np.float32), \n",
    "    np.array([[ 0.1528, -0.1745, -0.1135]], dtype=np.float32).T, \n",
    "    np.array([-0.5516], dtype=np.float32)\n",
    "]\n",
    "line()\n",
    "print('Loss:'.upper())\n",
    "print(feed_forward(x,y,W))\n",
    "line()\n",
    "print('Weights:'.upper())\n",
    "[print(w) for w in W]\n",
    "line()\n",
    "print('Updated Weights:'.upper())\n",
    "for epx in range(1):\n",
    "    updated_weights = update_weights(x,y,W,1)\n",
    "[print(w) for w in updated_weights];"
   ],
   "metadata": {
    "collapsed": false,
    "ExecuteTime": {
     "end_time": "2024-10-29T13:04:48.339789600Z",
     "start_time": "2024-10-29T13:04:48.326569800Z"
    }
   },
   "id": "1b3fb87f858b9265",
   "execution_count": 3
  },
  {
   "cell_type": "code",
   "outputs": [],
   "source": [
    "pre_hidden = np.dot(x,W[0])+ W[1]\n",
    "hidden = 1/(1+np.exp(-pre_hidden))\n",
    "predicted_value = np.dot(hidden, W[2]) + W[3]"
   ],
   "metadata": {
    "collapsed": false,
    "ExecuteTime": {
     "end_time": "2024-10-29T13:04:48.362031300Z",
     "start_time": "2024-10-29T13:04:48.340805Z"
    }
   },
   "id": "c233c2ae109ba164",
   "execution_count": 4
  },
  {
   "cell_type": "code",
   "outputs": [
    {
     "name": "stdout",
     "output_type": "stream",
     "text": [
      "0.03748860333147175 0.037488014\n"
     ]
    }
   ],
   "source": [
    "tmp = W[0][0][0] - (-2*(0-(predicted_value[0][0]))*(W[2][0][0])*hidden[0,0]*(1-hidden[0,0])*x[0][0])\n",
    "print(tmp, updated_weights[0][0][0])"
   ],
   "metadata": {
    "collapsed": false,
    "ExecuteTime": {
     "end_time": "2024-10-29T13:04:48.374400500Z",
     "start_time": "2024-10-29T13:04:48.355501900Z"
    }
   },
   "id": "265337c1ef7e5a28",
   "execution_count": 5
  },
  {
   "cell_type": "code",
   "outputs": [
    {
     "name": "stdout",
     "output_type": "stream",
     "text": [
      "-0.6289373468565382 -0.62894595\n"
     ]
    }
   ],
   "source": [
    "tmp = W[0][0][1] - (-2*(0-(predicted_value[0][0]))*(W[2][1][0])*hidden[0,1]*(1-hidden[0,1])*x[0][0])\n",
    "print(tmp, updated_weights[0][0][1])"
   ],
   "metadata": {
    "collapsed": false,
    "ExecuteTime": {
     "end_time": "2024-10-29T13:04:48.395527600Z",
     "start_time": "2024-10-29T13:04:48.370413500Z"
    }
   },
   "id": "e0a174425dc87181",
   "execution_count": 6
  },
  {
   "cell_type": "code",
   "outputs": [
    {
     "name": "stdout",
     "output_type": "stream",
     "text": [
      "-0.304951263947996 0.037488014\n"
     ]
    }
   ],
   "source": [
    "tmp = W[0][0][2] - (-2*(0-(predicted_value[0][0]))*(W[2][2][0])*hidden[0,2]*(1-hidden[0,2])*x[0][0])\n",
    "print(tmp, updated_weights[0][0][0])"
   ],
   "metadata": {
    "collapsed": false,
    "ExecuteTime": {
     "end_time": "2024-10-29T13:04:48.401043Z",
     "start_time": "2024-10-29T13:04:48.385915500Z"
    }
   },
   "id": "a8b65aabd80375db",
   "execution_count": 7
  },
  {
   "cell_type": "code",
   "outputs": [
    {
     "name": "stdout",
     "output_type": "stream",
     "text": [
      "0.42208860145914084 0.42208242\n"
     ]
    }
   ],
   "source": [
    "tmp = W[0][1][0] - (-2*(0-(predicted_value[0][0]))*(W[2][0][0])*hidden[0,0]*(1-hidden[0,0])*x[0][1])\n",
    "print(tmp, updated_weights[0][1][0])"
   ],
   "metadata": {
    "collapsed": false,
    "ExecuteTime": {
     "end_time": "2024-10-29T13:04:48.422113800Z",
     "start_time": "2024-10-29T13:04:48.402039600Z"
    }
   },
   "id": "6badb1cdfc1b0421",
   "execution_count": 8
  },
  {
   "cell_type": "code",
   "outputs": [
    {
     "name": "stdout",
     "output_type": "stream",
     "text": [
      "-0.5673373173880019 -0.5673459\n"
     ]
    }
   ],
   "source": [
    "tmp = W[0][1][1] - (-2*(0-(predicted_value[0][0]))*(W[2][1][0])*hidden[0,1]*(1-hidden[0,1])*x[0][1])\n",
    "print(tmp, updated_weights[0][1][1])"
   ],
   "metadata": {
    "collapsed": false,
    "ExecuteTime": {
     "end_time": "2024-10-29T13:04:48.432586900Z",
     "start_time": "2024-10-29T13:04:48.416565700Z"
    }
   },
   "id": "1c9735cc3c5cc4ff",
   "execution_count": 9
  },
  {
   "cell_type": "code",
   "outputs": [
    {
     "name": "stdout",
     "output_type": "stream",
     "text": [
      "0.15694874675699821 0.156948\n"
     ]
    }
   ],
   "source": [
    "tmp = W[0][1][2] - (-2*(0-(predicted_value[0][0]))*(W[2][2][0])*hidden[0,2]*(1-hidden[0,2])*x[0][1])\n",
    "print(tmp, updated_weights[0][1][2])"
   ],
   "metadata": {
    "collapsed": false,
    "ExecuteTime": {
     "end_time": "2024-10-29T13:04:48.451365300Z",
     "start_time": "2024-10-29T13:04:48.433582800Z"
    }
   },
   "id": "38473b36ab247bcb",
   "execution_count": 10
  },
  {
   "cell_type": "code",
   "outputs": [
    {
     "name": "stdout",
     "output_type": "stream",
     "text": [
      "0.028788602743620932 0.028788012\n"
     ]
    }
   ],
   "source": [
    "tmp = W[1][0] - (-2*(0-(predicted_value[0][0]))*hidden[0,0]*(1-hidden[0,0])*W[2][0][0])\n",
    "print(tmp, updated_weights[1][0])"
   ],
   "metadata": {
    "collapsed": false,
    "ExecuteTime": {
     "end_time": "2024-10-29T13:04:48.462124300Z",
     "start_time": "2024-10-29T13:04:48.449338300Z"
    }
   },
   "id": "213375b006f3e3a2",
   "execution_count": 11
  },
  {
   "cell_type": "code",
   "outputs": [
    {
     "name": "stdout",
     "output_type": "stream",
     "text": [
      "0.5137626696420274 0.51375407\n"
     ]
    }
   ],
   "source": [
    "tmp = W[1][1] - (-2*(0-(predicted_value[0][0]))*hidden[0,1]*(1-hidden[0,1])*W[2][1][0])\n",
    "print(tmp, updated_weights[1][1])"
   ],
   "metadata": {
    "collapsed": false,
    "ExecuteTime": {
     "end_time": "2024-10-29T13:04:48.483007600Z",
     "start_time": "2024-10-29T13:04:48.464117700Z"
    }
   },
   "id": "b85e09953209284e",
   "execution_count": 12
  },
  {
   "cell_type": "code",
   "outputs": [
    {
     "name": "stdout",
     "output_type": "stream",
     "text": [
      "-0.0954512566166247 -0.09545201\n"
     ]
    }
   ],
   "source": [
    "tmp = W[1][2] - (-2*(0-(predicted_value[0][0]))*hidden[0,2]*(1-hidden[0,2])*W[2][2][0])\n",
    "print(tmp, updated_weights[1][2])"
   ],
   "metadata": {
    "collapsed": false,
    "ExecuteTime": {
     "end_time": "2024-10-29T13:04:48.494910300Z",
     "start_time": "2024-10-29T13:04:48.479075400Z"
    }
   },
   "id": "6c6e3e263a5d8ba3",
   "execution_count": 13
  },
  {
   "cell_type": "code",
   "outputs": [
    {
     "name": "stdout",
     "output_type": "stream",
     "text": [
      "0.8342055621416937 0.8341824\n"
     ]
    }
   ],
   "source": [
    "tmp = W[2][0][0]-(-2*(0-(predicted_value[0][0]))*hidden[0][0])\n",
    "print(tmp, updated_weights[2][0][0])"
   ],
   "metadata": {
    "collapsed": false,
    "ExecuteTime": {
     "end_time": "2024-10-29T13:04:48.519414500Z",
     "start_time": "2024-10-29T13:04:48.494910300Z"
    }
   },
   "id": "845995c2e222c8ee",
   "execution_count": 14
  },
  {
   "cell_type": "code",
   "outputs": [
    {
     "name": "stdout",
     "output_type": "stream",
     "text": [
      "0.2509642654210383 0.25095794\n"
     ]
    }
   ],
   "source": [
    "tmp = W[2][1][0]-(-2*(0-(predicted_value[0][0]))*hidden[0][1])\n",
    "print(tmp, updated_weights[2][1][0])"
   ],
   "metadata": {
    "collapsed": false,
    "ExecuteTime": {
     "end_time": "2024-10-29T13:04:48.525396400Z",
     "start_time": "2024-10-29T13:04:48.509939100Z"
    }
   },
   "id": "4b5b25232181b1e",
   "execution_count": 15
  },
  {
   "cell_type": "code",
   "outputs": [
    {
     "name": "stdout",
     "output_type": "stream",
     "text": [
      "0.422898309408289 0.4228859\n"
     ]
    }
   ],
   "source": [
    "tmp = W[2][2][0]-(-2*(0-(predicted_value[0][0]))*hidden[0][2])\n",
    "print(tmp, updated_weights[2][2][0])"
   ],
   "metadata": {
    "collapsed": false,
    "ExecuteTime": {
     "end_time": "2024-10-29T13:04:48.551360400Z",
     "start_time": "2024-10-29T13:04:48.526393100Z"
    }
   },
   "id": "b9469d0ffa122ddc",
   "execution_count": 16
  },
  {
   "cell_type": "code",
   "outputs": [
    {
     "name": "stdout",
     "output_type": "stream",
     "text": [
      "0.6052061234525776 0.60529804\n"
     ]
    }
   ],
   "source": [
    "tmp = W[3][0]-(-2*(0-(predicted_value[0][0])))\n",
    "print(tmp, updated_weights[3][0])"
   ],
   "metadata": {
    "collapsed": false,
    "ExecuteTime": {
     "end_time": "2024-10-29T13:04:48.557846100Z",
     "start_time": "2024-10-29T13:04:48.542442600Z"
    }
   },
   "id": "cb6da3eff9574c3",
   "execution_count": 17
  }
 ],
 "metadata": {
  "kernelspec": {
   "display_name": "Python 3",
   "language": "python",
   "name": "python3"
  },
  "language_info": {
   "codemirror_mode": {
    "name": "ipython",
    "version": 2
   },
   "file_extension": ".py",
   "mimetype": "text/x-python",
   "name": "python",
   "nbconvert_exporter": "python",
   "pygments_lexer": "ipython2",
   "version": "2.7.6"
  }
 },
 "nbformat": 4,
 "nbformat_minor": 5
}
