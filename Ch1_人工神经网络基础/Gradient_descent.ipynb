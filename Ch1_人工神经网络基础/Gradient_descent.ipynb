{
 "cells": [
  {
   "cell_type": "markdown",
   "source": [
    "## Gradient Descent"
   ],
   "metadata": {
    "collapsed": false
   },
   "id": "47e8df86bf9b106d"
  },
  {
   "cell_type": "code",
   "outputs": [],
   "source": [
    "import numpy as np\n",
    "from copy import deepcopy\n",
    "import matplotlib.pyplot as plt\n",
    "x=np.array([[1,1]])\n",
    "y=np.array([[0]])"
   ],
   "metadata": {
    "collapsed": false,
    "ExecuteTime": {
     "end_time": "2024-10-29T13:04:40.760828100Z",
     "start_time": "2024-10-29T13:04:40.396467800Z"
    }
   },
   "id": "7a7a5b07179f89d5",
   "execution_count": 1
  },
  {
   "cell_type": "code",
   "outputs": [],
   "source": [
    "def feed_forward(inputs,outputs,weights):\n",
    "    pre_hidden=np.dot(inputs,weights[0])+weights[1]\n",
    "    hidden=1/(1+np.exp(-pre_hidden))\n",
    "    pred_out=np.dot(hidden,weights[2])+weights[3]\n",
    "    mean_squared_error=np.mean(np.square(pred_out-outputs))\n",
    "    return mean_squared_error"
   ],
   "metadata": {
    "collapsed": false,
    "ExecuteTime": {
     "end_time": "2024-10-29T13:04:40.776805200Z",
     "start_time": "2024-10-29T13:04:40.762821Z"
    }
   },
   "id": "31689cc7c0acd512",
   "execution_count": 2
  },
  {
   "cell_type": "code",
   "outputs": [],
   "source": [
    "def update_weights(inputs,outputs,weights,lr):\n",
    "    original_weights=deepcopy(weights)\n",
    "    temp_weights=deepcopy(weights)\n",
    "    updated_weights=deepcopy(weights)\n",
    "    original_loss=feed_forward(inputs,outputs,original_weights)\n",
    "    for i,layer in enumerate(original_weights):\n",
    "        for index,weight in np.ndenumerate(layer):\n",
    "            temp_weights=deepcopy(weights)\n",
    "            temp_weights[i][index]+=0.0001\n",
    "            _loss_plus=feed_forward(inputs,outputs,temp_weights)\n",
    "            grad=(_loss_plus-original_loss)/(0.0001)\n",
    "            updated_weights[i][index]-=lr*grad\n",
    "            return updated_weights,original_loss"
   ],
   "metadata": {
    "collapsed": false,
    "ExecuteTime": {
     "end_time": "2024-10-29T13:04:40.793571300Z",
     "start_time": "2024-10-29T13:04:40.778306900Z"
    }
   },
   "id": "b0bd893c09e07498",
   "execution_count": 3
  }
 ],
 "metadata": {
  "kernelspec": {
   "display_name": "Python 3",
   "language": "python",
   "name": "python3"
  },
  "language_info": {
   "codemirror_mode": {
    "name": "ipython",
    "version": 2
   },
   "file_extension": ".py",
   "mimetype": "text/x-python",
   "name": "python",
   "nbconvert_exporter": "python",
   "pygments_lexer": "ipython2",
   "version": "2.7.6"
  }
 },
 "nbformat": 4,
 "nbformat_minor": 5
}
