{
 "cells": [
  {
   "cell_type": "markdown",
   "source": [
    "## Forward Propagation"
   ],
   "metadata": {
    "collapsed": false
   },
   "id": "bf4041c136592e51"
  },
  {
   "cell_type": "code",
   "outputs": [],
   "source": [
    "import numpy as np\n",
    "def feed_forward(inputs,outputs,weights):\n",
    "    pre_hidden=np.dot(inputs,weights[0])+weights[1]\n",
    "    hidden=1/(1+np.exp(-pre_hidden))\n",
    "    pred_out=np.dot(hidden,weights[2])+weights[3]\n",
    "    mean_squared_error=np.mean(np.square(pred_out-outputs))\n",
    "    return mean_squared_error"
   ],
   "metadata": {
    "collapsed": false,
    "ExecuteTime": {
     "end_time": "2024-10-29T13:04:34.786276400Z",
     "start_time": "2024-10-29T13:04:34.685339200Z"
    }
   },
   "id": "250db653dfb83eb6",
   "execution_count": 1
  }
 ],
 "metadata": {
  "kernelspec": {
   "display_name": "Python 3",
   "language": "python",
   "name": "python3"
  },
  "language_info": {
   "codemirror_mode": {
    "name": "ipython",
    "version": 2
   },
   "file_extension": ".py",
   "mimetype": "text/x-python",
   "name": "python",
   "nbconvert_exporter": "python",
   "pygments_lexer": "ipython2",
   "version": "2.7.6"
  }
 },
 "nbformat": 4,
 "nbformat_minor": 5
}
